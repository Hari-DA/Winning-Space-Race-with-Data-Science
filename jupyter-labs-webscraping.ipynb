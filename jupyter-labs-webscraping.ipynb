{
 "cells": [
  {
   "cell_type": "markdown",
   "metadata": {},
   "source": [
    "<p style=\"text-align:center\">\n",
    "    <a href=\"https://skills.network\" target=\"_blank\">\n",
    "    <img src=\"https://cf-courses-data.s3.us.cloud-object-storage.appdomain.cloud/assets/logos/SN_web_lightmode.png\" width=\"200\" alt=\"Skills Network Logo\">\n",
    "    </a>\n",
    "</p>\n"
   ]
  },
  {
   "cell_type": "markdown",
   "metadata": {},
   "source": [
    "# **Space X  Falcon 9 First Stage Landing Prediction**\n"
   ]
  },
  {
   "cell_type": "markdown",
   "metadata": {},
   "source": [
    "## Web scraping Falcon 9 and Falcon Heavy Launches Records from Wikipedia\n"
   ]
  },
  {
   "cell_type": "markdown",
   "metadata": {},
   "source": [
    "Estimated time needed: **40** minutes\n"
   ]
  },
  {
   "cell_type": "markdown",
   "metadata": {},
   "source": [
    "In this lab, you will be performing web scraping to collect Falcon 9 historical launch records from a Wikipedia page titled `List of Falcon 9 and Falcon Heavy launches`\n",
    "\n",
    "https://en.wikipedia.org/wiki/List_of_Falcon_9_and_Falcon_Heavy_launches\n"
   ]
  },
  {
   "cell_type": "markdown",
   "metadata": {},
   "source": [
    "![](https://cf-courses-data.s3.us.cloud-object-storage.appdomain.cloud/IBM-DS0321EN-SkillsNetwork/labs/module_1_L2/images/Falcon9_rocket_family.svg)\n"
   ]
  },
  {
   "cell_type": "markdown",
   "metadata": {},
   "source": [
    "Falcon 9 first stage will land successfully\n"
   ]
  },
  {
   "cell_type": "markdown",
   "metadata": {},
   "source": [
    "![](https://cf-courses-data.s3.us.cloud-object-storage.appdomain.cloud/IBMDeveloperSkillsNetwork-DS0701EN-SkillsNetwork/api/Images/landing_1.gif)\n"
   ]
  },
  {
   "cell_type": "markdown",
   "metadata": {},
   "source": [
    "Several examples of an unsuccessful landing are shown here:\n"
   ]
  },
  {
   "cell_type": "markdown",
   "metadata": {},
   "source": [
    "![](https://cf-courses-data.s3.us.cloud-object-storage.appdomain.cloud/IBMDeveloperSkillsNetwork-DS0701EN-SkillsNetwork/api/Images/crash.gif)\n"
   ]
  },
  {
   "cell_type": "markdown",
   "metadata": {},
   "source": [
    "More specifically, the launch records are stored in a HTML table shown below:\n"
   ]
  },
  {
   "cell_type": "markdown",
   "metadata": {},
   "source": [
    "![](https://cf-courses-data.s3.us.cloud-object-storage.appdomain.cloud/IBM-DS0321EN-SkillsNetwork/labs/module_1_L2/images/falcon9-launches-wiki.png)\n"
   ]
  },
  {
   "cell_type": "markdown",
   "metadata": {},
   "source": [
    "  ## Objectives\n",
    "Web scrap Falcon 9 launch records with `BeautifulSoup`: \n",
    "- Extract a Falcon 9 launch records HTML table from Wikipedia\n",
    "- Parse the table and convert it into a Pandas data frame\n"
   ]
  },
  {
   "cell_type": "markdown",
   "metadata": {},
   "source": [
    "First let's import required packages for this lab\n"
   ]
  },
  {
   "cell_type": "code",
   "execution_count": 1,
   "metadata": {
    "tags": []
   },
   "outputs": [
    {
     "name": "stdout",
     "output_type": "stream",
     "text": [
      "Requirement already satisfied: beautifulsoup4 in /home/jupyterlab/conda/envs/python/lib/python3.7/site-packages (4.11.1)\n",
      "Requirement already satisfied: soupsieve>1.2 in /home/jupyterlab/conda/envs/python/lib/python3.7/site-packages (from beautifulsoup4) (2.3.2.post1)\n",
      "Requirement already satisfied: requests in /home/jupyterlab/conda/envs/python/lib/python3.7/site-packages (2.29.0)\n",
      "Requirement already satisfied: charset-normalizer<4,>=2 in /home/jupyterlab/conda/envs/python/lib/python3.7/site-packages (from requests) (3.1.0)\n",
      "Requirement already satisfied: idna<4,>=2.5 in /home/jupyterlab/conda/envs/python/lib/python3.7/site-packages (from requests) (3.4)\n",
      "Requirement already satisfied: urllib3<1.27,>=1.21.1 in /home/jupyterlab/conda/envs/python/lib/python3.7/site-packages (from requests) (1.26.15)\n",
      "Requirement already satisfied: certifi>=2017.4.17 in /home/jupyterlab/conda/envs/python/lib/python3.7/site-packages (from requests) (2023.5.7)\n"
     ]
    }
   ],
   "source": [
    "!pip3 install beautifulsoup4\n",
    "!pip3 install requests"
   ]
  },
  {
   "cell_type": "code",
   "execution_count": 2,
   "metadata": {
    "tags": []
   },
   "outputs": [],
   "source": [
    "import sys\n",
    "\n",
    "import requests\n",
    "from bs4 import BeautifulSoup\n",
    "import re\n",
    "import unicodedata\n",
    "import pandas as pd"
   ]
  },
  {
   "cell_type": "markdown",
   "metadata": {},
   "source": [
    "and we will provide some helper functions for you to process web scraped HTML table\n"
   ]
  },
  {
   "cell_type": "code",
   "execution_count": 3,
   "metadata": {
    "tags": []
   },
   "outputs": [],
   "source": [
    "def date_time(table_cells):\n",
    "    \"\"\"\n",
    "    This function returns the data and time from the HTML  table cell\n",
    "    Input: the  element of a table data cell extracts extra row\n",
    "    \"\"\"\n",
    "    return [data_time.strip() for data_time in list(table_cells.strings)][0:2]\n",
    "\n",
    "def booster_version(table_cells):\n",
    "    \"\"\"\n",
    "    This function returns the booster version from the HTML  table cell \n",
    "    Input: the  element of a table data cell extracts extra row\n",
    "    \"\"\"\n",
    "    out=''.join([booster_version for i,booster_version in enumerate( table_cells.strings) if i%2==0][0:-1])\n",
    "    return out\n",
    "\n",
    "def landing_status(table_cells):\n",
    "    \"\"\"\n",
    "    This function returns the landing status from the HTML table cell \n",
    "    Input: the  element of a table data cell extracts extra row\n",
    "    \"\"\"\n",
    "    out=[i for i in table_cells.strings][0]\n",
    "    return out\n",
    "\n",
    "\n",
    "def get_mass(table_cells):\n",
    "    mass=unicodedata.normalize(\"NFKD\", table_cells.text).strip()\n",
    "    if mass:\n",
    "        mass.find(\"kg\")\n",
    "        new_mass=mass[0:mass.find(\"kg\")+2]\n",
    "    else:\n",
    "        new_mass=0\n",
    "    return new_mass\n",
    "\n",
    "\n",
    "def extract_column_from_header(row):\n",
    "    \"\"\"\n",
    "    This function returns the landing status from the HTML table cell \n",
    "    Input: the  element of a table data cell extracts extra row\n",
    "    \"\"\"\n",
    "    if (row.br):\n",
    "        row.br.extract()\n",
    "    if row.a:\n",
    "        row.a.extract()\n",
    "    if row.sup:\n",
    "        row.sup.extract()\n",
    "        \n",
    "    colunm_name = ' '.join(row.contents)\n",
    "    \n",
    "    # Filter the digit and empty names\n",
    "    if not(colunm_name.strip().isdigit()):\n",
    "        colunm_name = colunm_name.strip()\n",
    "        return colunm_name    \n"
   ]
  },
  {
   "cell_type": "markdown",
   "metadata": {},
   "source": [
    "To keep the lab tasks consistent, you will be asked to scrape the data from a snapshot of the  `List of Falcon 9 and Falcon Heavy launches` Wikipage updated on\n",
    "`9th June 2021`\n"
   ]
  },
  {
   "cell_type": "code",
   "execution_count": 4,
   "metadata": {
    "tags": []
   },
   "outputs": [],
   "source": [
    "static_url = \"https://en.wikipedia.org/w/index.php?title=List_of_Falcon_9_and_Falcon_Heavy_launches&oldid=1027686922\""
   ]
  },
  {
   "cell_type": "markdown",
   "metadata": {},
   "source": [
    "Next, request the HTML page from the above URL and get a `response` object\n"
   ]
  },
  {
   "cell_type": "markdown",
   "metadata": {},
   "source": [
    "### TASK 1: Request the Falcon9 Launch Wiki page from its URL\n"
   ]
  },
  {
   "cell_type": "markdown",
   "metadata": {},
   "source": [
    "First, let's perform an HTTP GET method to request the Falcon9 Launch HTML page, as an HTTP response.\n"
   ]
  },
  {
   "cell_type": "code",
   "execution_count": 5,
   "metadata": {
    "tags": []
   },
   "outputs": [
    {
     "name": "stdout",
     "output_type": "stream",
     "text": [
      "Successfully retrieved the webpage!\n"
     ]
    }
   ],
   "source": [
    "import requests\n",
    "\n",
    "# URL of the Wikipedia page\n",
    "static_url = \"https://en.wikipedia.org/w/index.php?title=List_of_Falcon_9_and_Falcon_Heavy_launches&oldid=1027686922\"\n",
    "\n",
    "# Send a GET request to the URL\n",
    "response = requests.get(static_url)\n",
    "\n",
    "# Check if the request was successful\n",
    "if response.status_code == 200:\n",
    "    print(\"Successfully retrieved the webpage!\")\n",
    "else:\n",
    "    print(f\"Failed to retrieve the webpage. Status code: {response.status_code}\")"
   ]
  },
  {
   "cell_type": "markdown",
   "metadata": {},
   "source": [
    "Create a `BeautifulSoup` object from the HTML `response`\n"
   ]
  },
  {
   "cell_type": "code",
   "execution_count": 6,
   "metadata": {
    "tags": []
   },
   "outputs": [
    {
     "name": "stdout",
     "output_type": "stream",
     "text": [
      "List of Falcon 9 and Falcon Heavy launches - Wikipedia\n"
     ]
    }
   ],
   "source": [
    "from bs4 import BeautifulSoup\n",
    "\n",
    "# Create a BeautifulSoup object from the HTML response content\n",
    "soup = BeautifulSoup(response.content, 'html.parser')\n",
    "\n",
    "# Print the title of the page to verify that the BeautifulSoup object was created correctly\n",
    "print(soup.title.string)"
   ]
  },
  {
   "cell_type": "markdown",
   "metadata": {},
   "source": [
    "Print the page title to verify if the `BeautifulSoup` object was created properly \n"
   ]
  },
  {
   "cell_type": "code",
   "execution_count": 7,
   "metadata": {
    "tags": []
   },
   "outputs": [
    {
     "name": "stdout",
     "output_type": "stream",
     "text": [
      "List of Falcon 9 and Falcon Heavy launches - Wikipedia\n"
     ]
    }
   ],
   "source": [
    "print(soup.title.string)"
   ]
  },
  {
   "cell_type": "markdown",
   "metadata": {},
   "source": [
    "### TASK 2: Extract all column/variable names from the HTML table header\n"
   ]
  },
  {
   "cell_type": "markdown",
   "metadata": {},
   "source": [
    "Next, we want to collect all relevant column names from the HTML table header\n"
   ]
  },
  {
   "cell_type": "markdown",
   "metadata": {},
   "source": [
    "Let's try to find all tables on the wiki page first. If you need to refresh your memory about `BeautifulSoup`, please check the external reference link towards the end of this lab\n"
   ]
  },
  {
   "cell_type": "code",
   "execution_count": 8,
   "metadata": {
    "tags": []
   },
   "outputs": [
    {
     "name": "stdout",
     "output_type": "stream",
     "text": [
      "Number of tables found: 25\n"
     ]
    }
   ],
   "source": [
    "# Use the find_all function in the BeautifulSoup object to find all tables\n",
    "html_tables = soup.find_all('table')\n",
    "\n",
    "# Print the number of tables found to verify\n",
    "print(f\"Number of tables found: {len(html_tables)}\")"
   ]
  },
  {
   "cell_type": "markdown",
   "metadata": {},
   "source": [
    "Starting from the third table is our target table contains the actual launch records.\n"
   ]
  },
  {
   "cell_type": "code",
   "execution_count": 9,
   "metadata": {
    "tags": []
   },
   "outputs": [
    {
     "name": "stdout",
     "output_type": "stream",
     "text": [
      "<table class=\"wikitable plainrowheaders collapsible\" style=\"width: 100%;\">\n",
      " <tbody>\n",
      "  <tr>\n",
      "   <th scope=\"col\">\n",
      "    Flight No.\n",
      "   </th>\n",
      "   <th scope=\"col\">\n",
      "    Date and\n",
      "    <br/>\n",
      "    time (\n",
      "    <a href=\"/wiki/Coordinated_Universal_Time\" title=\"Coordinated Universal Time\">\n",
      "     UTC\n",
      "    </a>\n",
      "    )\n",
      "   </th>\n",
      "   <th scope=\"col\">\n",
      "    <a href=\"/wiki/List_of_Falcon_9_first-stage_boosters\" title=\"List of Falcon 9 first-stage boosters\">\n",
      "     Version,\n",
      "     <br/>\n",
      "     Booster\n",
      "    </a>\n",
      "    <sup class=\"reference\" id=\"cite_ref-booster_11-0\">\n",
      "     <a href=\"#cite_note-booster-11\">\n",
      "      <span class=\"cite-bracket\">\n",
      "       [\n",
      "      </span>\n",
      "      b\n",
      "      <span class=\"cite-bracket\">\n",
      "       ]\n",
      "      </span>\n",
      "     </a>\n",
      "    </sup>\n",
      "   </th>\n",
      "   <th scope=\"col\">\n",
      "    Launch site\n",
      "   </th>\n",
      "   <th scope=\"col\">\n",
      "    Payload\n",
      "    <sup class=\"reference\" id=\"cite_ref-Dragon_12-0\">\n",
      "     <a href=\"#cite_note-Dragon-12\">\n",
      "      <span class=\"cite-bracket\">\n",
      "       [\n",
      "      </span>\n",
      "      c\n",
      "      <span class=\"cite-bracket\">\n",
      "       ]\n",
      "      </span>\n",
      "     </a>\n",
      "    </sup>\n",
      "   </th>\n",
      "   <th scope=\"col\">\n",
      "    Payload mass\n",
      "   </th>\n",
      "   <th scope=\"col\">\n",
      "    Orbit\n",
      "   </th>\n",
      "   <th scope=\"col\">\n",
      "    Customer\n",
      "   </th>\n",
      "   <th scope=\"col\">\n",
      "    Launch\n",
      "    <br/>\n",
      "    outcome\n",
      "   </th>\n",
      "   <th scope=\"col\">\n",
      "    <a href=\"/wiki/Falcon_9_first-stage_landing_tests\" title=\"Falcon 9 first-stage landing tests\">\n",
      "     Booster\n",
      "     <br/>\n",
      "     landing\n",
      "    </a>\n",
      "   </th>\n",
      "  </tr>\n",
      "  <tr>\n",
      "   <th rowspan=\"2\" scope=\"row\" style=\"text-align:center;\">\n",
      "    1\n",
      "   </th>\n",
      "   <td>\n",
      "    4 June 2010,\n",
      "    <br/>\n",
      "    18:45\n",
      "   </td>\n",
      "   <td>\n",
      "    <a href=\"/wiki/Falcon_9_v1.0\" title=\"Falcon 9 v1.0\">\n",
      "     F9 v1.0\n",
      "    </a>\n",
      "    <sup class=\"reference\" id=\"cite_ref-MuskMay2012_13-0\">\n",
      "     <a href=\"#cite_note-MuskMay2012-13\">\n",
      "      <span class=\"cite-bracket\">\n",
      "       [\n",
      "      </span>\n",
      "      7\n",
      "      <span class=\"cite-bracket\">\n",
      "       ]\n",
      "      </span>\n",
      "     </a>\n",
      "    </sup>\n",
      "    <br/>\n",
      "    B0003.1\n",
      "    <sup class=\"reference\" id=\"cite_ref-block_numbers_14-0\">\n",
      "     <a href=\"#cite_note-block_numbers-14\">\n",
      "      <span class=\"cite-bracket\">\n",
      "       [\n",
      "      </span>\n",
      "      8\n",
      "      <span class=\"cite-bracket\">\n",
      "       ]\n",
      "      </span>\n",
      "     </a>\n",
      "    </sup>\n",
      "   </td>\n",
      "   <td>\n",
      "    <a href=\"/wiki/Cape_Canaveral_Space_Force_Station\" title=\"Cape Canaveral Space Force Station\">\n",
      "     CCAFS\n",
      "    </a>\n",
      "    ,\n",
      "    <br/>\n",
      "    <a href=\"/wiki/Cape_Canaveral_Space_Launch_Complex_40\" title=\"Cape Canaveral Space Launch Complex 40\">\n",
      "     SLC-40\n",
      "    </a>\n",
      "   </td>\n",
      "   <td>\n",
      "    <a href=\"/wiki/Dragon_Spacecraft_Qualification_Unit\" title=\"Dragon Spacecraft Qualification Unit\">\n",
      "     Dragon Spacecraft Qualification Unit\n",
      "    </a>\n",
      "   </td>\n",
      "   <td>\n",
      "   </td>\n",
      "   <td>\n",
      "    <a href=\"/wiki/Low_Earth_orbit\" title=\"Low Earth orbit\">\n",
      "     LEO\n",
      "    </a>\n",
      "   </td>\n",
      "   <td>\n",
      "    <a href=\"/wiki/SpaceX\" title=\"SpaceX\">\n",
      "     SpaceX\n",
      "    </a>\n",
      "   </td>\n",
      "   <td class=\"table-success\" style=\"background: #9EFF9E; color:black; vertical-align: middle; text-align: center;\">\n",
      "    Success\n",
      "   </td>\n",
      "   <td class=\"table-failure\" style=\"background: #FFC7C7; color:black; vertical-align: middle; text-align: center;\">\n",
      "    Failure\n",
      "    <sup class=\"reference\" id=\"cite_ref-ns20110930_15-0\">\n",
      "     <a href=\"#cite_note-ns20110930-15\">\n",
      "      <span class=\"cite-bracket\">\n",
      "       [\n",
      "      </span>\n",
      "      9\n",
      "      <span class=\"cite-bracket\">\n",
      "       ]\n",
      "      </span>\n",
      "     </a>\n",
      "    </sup>\n",
      "    <sup class=\"reference\" id=\"cite_ref-16\">\n",
      "     <a href=\"#cite_note-16\">\n",
      "      <span class=\"cite-bracket\">\n",
      "       [\n",
      "      </span>\n",
      "      10\n",
      "      <span class=\"cite-bracket\">\n",
      "       ]\n",
      "      </span>\n",
      "     </a>\n",
      "    </sup>\n",
      "    <br/>\n",
      "    <small>\n",
      "     (parachute)\n",
      "    </small>\n",
      "   </td>\n",
      "  </tr>\n",
      "  <tr>\n",
      "   <td colspan=\"9\">\n",
      "    First flight of Falcon 9 v1.0.\n",
      "    <sup class=\"reference\" id=\"cite_ref-sfn20100604_17-0\">\n",
      "     <a href=\"#cite_note-sfn20100604-17\">\n",
      "      <span class=\"cite-bracket\">\n",
      "       [\n",
      "      </span>\n",
      "      11\n",
      "      <span class=\"cite-bracket\">\n",
      "       ]\n",
      "      </span>\n",
      "     </a>\n",
      "    </sup>\n",
      "    Used a boilerplate version of Dragon capsule which was not designed to separate from the second stage.\n",
      "    <small>\n",
      "     (\n",
      "     <a href=\"#First_flight_of_Falcon_9\">\n",
      "      more details below\n",
      "     </a>\n",
      "     )\n",
      "    </small>\n",
      "    Attempted to recover the first stage by parachuting it into the ocean, but it burned up on reentry, before the parachutes even deployed.\n",
      "    <sup class=\"reference\" id=\"cite_ref-parachute_18-0\">\n",
      "     <a href=\"#cite_note-parachute-18\">\n",
      "      <span class=\"cite-bracket\">\n",
      "       [\n",
      "      </span>\n",
      "      12\n",
      "      <span class=\"cite-bracket\">\n",
      "       ]\n",
      "      </span>\n",
      "     </a>\n",
      "    </sup>\n",
      "   </td>\n",
      "  </tr>\n",
      "  <tr>\n",
      "   <th rowspan=\"2\" scope=\"row\" style=\"text-align:center;\">\n",
      "    2\n",
      "   </th>\n",
      "   <td>\n",
      "    8 December 2010,\n",
      "    <br/>\n",
      "    15:43\n",
      "    <sup class=\"reference\" id=\"cite_ref-spaceflightnow_Clark_Launch_Report_19-0\">\n",
      "     <a href=\"#cite_note-spaceflightnow_Clark_Launch_Report-19\">\n",
      "      <span class=\"cite-bracket\">\n",
      "       [\n",
      "      </span>\n",
      "      13\n",
      "      <span class=\"cite-bracket\">\n",
      "       ]\n",
      "      </span>\n",
      "     </a>\n",
      "    </sup>\n",
      "   </td>\n",
      "   <td>\n",
      "    <a href=\"/wiki/Falcon_9_v1.0\" title=\"Falcon 9 v1.0\">\n",
      "     F9 v1.0\n",
      "    </a>\n",
      "    <sup class=\"reference\" id=\"cite_ref-MuskMay2012_13-1\">\n",
      "     <a href=\"#cite_note-MuskMay2012-13\">\n",
      "      <span class=\"cite-bracket\">\n",
      "       [\n",
      "      </span>\n",
      "      7\n",
      "      <span class=\"cite-bracket\">\n",
      "       ]\n",
      "      </span>\n",
      "     </a>\n",
      "    </sup>\n",
      "    <br/>\n",
      "    B0004.1\n",
      "    <sup class=\"reference\" id=\"cite_ref-block_numbers_14-1\">\n",
      "     <a href=\"#cite_note-block_numbers-14\">\n",
      "      <span class=\"cite-bracket\">\n",
      "       [\n",
      "      </span>\n",
      "      8\n",
      "      <span class=\"cite-bracket\">\n",
      "       ]\n",
      "      </span>\n",
      "     </a>\n",
      "    </sup>\n",
      "   </td>\n",
      "   <td>\n",
      "    <a href=\"/wiki/Cape_Canaveral_Space_Force_Station\" title=\"Cape Canaveral Space Force Station\">\n",
      "     CCAFS\n",
      "    </a>\n",
      "    ,\n",
      "    <br/>\n",
      "    <a href=\"/wiki/Cape_Canaveral_Space_Launch_Complex_40\" title=\"Cape Canaveral Space Launch Complex 40\">\n",
      "     SLC-40\n",
      "    </a>\n",
      "   </td>\n",
      "   <td>\n",
      "    <a href=\"/wiki/SpaceX_Dragon\" title=\"SpaceX Dragon\">\n",
      "     Dragon\n",
      "    </a>\n",
      "    <a class=\"mw-redirect\" href=\"/wiki/COTS_Demo_Flight_1\" title=\"COTS Demo Flight 1\">\n",
      "     demo flight C1\n",
      "    </a>\n",
      "    <br/>\n",
      "    (Dragon C101)\n",
      "   </td>\n",
      "   <td>\n",
      "   </td>\n",
      "   <td>\n",
      "    <a href=\"/wiki/Low_Earth_orbit\" title=\"Low Earth orbit\">\n",
      "     LEO\n",
      "    </a>\n",
      "    (\n",
      "    <a href=\"/wiki/International_Space_Station\" title=\"International Space Station\">\n",
      "     ISS\n",
      "    </a>\n",
      "    )\n",
      "   </td>\n",
      "   <td>\n",
      "    <style data-mw-deduplicate=\"TemplateStyles:r1126788409\">\n",
      "     .mw-parser-output .plainlist ol,.mw-parser-output .plainlist ul{line-height:inherit;list-style:none;margin:0;padding:0}.mw-parser-output .plainlist ol li,.mw-parser-output .plainlist ul li{margin-bottom:0}\n",
      "    </style>\n",
      "    <div class=\"plainlist\">\n",
      "     <ul>\n",
      "      <li>\n",
      "       <a href=\"/wiki/NASA\" title=\"NASA\">\n",
      "        NASA\n",
      "       </a>\n",
      "       (\n",
      "       <a href=\"/wiki/Commercial_Orbital_Transportation_Services\" title=\"Commercial Orbital Transportation Services\">\n",
      "        COTS\n",
      "       </a>\n",
      "       )\n",
      "      </li>\n",
      "      <li>\n",
      "       <a href=\"/wiki/National_Reconnaissance_Office\" title=\"National Reconnaissance Office\">\n",
      "        NRO\n",
      "       </a>\n",
      "      </li>\n",
      "     </ul>\n",
      "    </div>\n",
      "   </td>\n",
      "   <td class=\"table-success\" style=\"background: #9EFF9E; color:black; vertical-align: middle; text-align: center;\">\n",
      "    Success\n",
      "    <sup class=\"reference\" id=\"cite_ref-ns20110930_15-1\">\n",
      "     <a href=\"#cite_note-ns20110930-15\">\n",
      "      <span class=\"cite-bracket\">\n",
      "       [\n",
      "      </span>\n",
      "      9\n",
      "      <span class=\"cite-bracket\">\n",
      "       ]\n",
      "      </span>\n",
      "     </a>\n",
      "    </sup>\n",
      "   </td>\n",
      "   <td class=\"table-failure\" style=\"background: #FFC7C7; color:black; vertical-align: middle; text-align: center;\">\n",
      "    Failure\n",
      "    <sup class=\"reference\" id=\"cite_ref-ns20110930_15-2\">\n",
      "     <a href=\"#cite_note-ns20110930-15\">\n",
      "      <span class=\"cite-bracket\">\n",
      "       [\n",
      "      </span>\n",
      "      9\n",
      "      <span class=\"cite-bracket\">\n",
      "       ]\n",
      "      </span>\n",
      "     </a>\n",
      "    </sup>\n",
      "    <sup class=\"reference\" id=\"cite_ref-20\">\n",
      "     <a href=\"#cite_note-20\">\n",
      "      <span class=\"cite-bracket\">\n",
      "       [\n",
      "      </span>\n",
      "      14\n",
      "      <span class=\"cite-bracket\">\n",
      "       ]\n",
      "      </span>\n",
      "     </a>\n",
      "    </sup>\n",
      "    <br/>\n",
      "    <small>\n",
      "     (parachute)\n",
      "    </small>\n",
      "   </td>\n",
      "  </tr>\n",
      "  <tr>\n",
      "   <td colspan=\"9\">\n",
      "    Maiden flight of\n",
      "    <a class=\"mw-redirect\" href=\"/wiki/Dragon_capsule\" title=\"Dragon capsule\">\n",
      "     Dragon capsule\n",
      "    </a>\n",
      "    , consisting of over 3 hours of testing thruster maneuvering and reentry.\n",
      "    <sup class=\"reference\" id=\"cite_ref-spaceflightnow_Clark_unleashing_Dragon_21-0\">\n",
      "     <a href=\"#cite_note-spaceflightnow_Clark_unleashing_Dragon-21\">\n",
      "      <span class=\"cite-bracket\">\n",
      "       [\n",
      "      </span>\n",
      "      15\n",
      "      <span class=\"cite-bracket\">\n",
      "       ]\n",
      "      </span>\n",
      "     </a>\n",
      "    </sup>\n",
      "    Attempted to recover the first stage by parachuting it into the ocean, but it disintegrated upon reentry, before the parachutes were deployed.\n",
      "    <sup class=\"reference\" id=\"cite_ref-parachute_18-1\">\n",
      "     <a href=\"#cite_note-parachute-18\">\n",
      "      <span class=\"cite-bracket\">\n",
      "       [\n",
      "      </span>\n",
      "      12\n",
      "      <span class=\"cite-bracket\">\n",
      "       ]\n",
      "      </span>\n",
      "     </a>\n",
      "    </sup>\n",
      "    <small>\n",
      "     (\n",
      "     <a href=\"#COTS_demo_missions\">\n",
      "      more details below\n",
      "     </a>\n",
      "     )\n",
      "    </small>\n",
      "    It also included two\n",
      "    <a href=\"/wiki/CubeSat\" title=\"CubeSat\">\n",
      "     CubeSats\n",
      "    </a>\n",
      "    ,\n",
      "    <sup class=\"reference\" id=\"cite_ref-NRO_Taps_Boeing_for_Next_Batch_of_CubeSats_22-0\">\n",
      "     <a href=\"#cite_note-NRO_Taps_Boeing_for_Next_Batch_of_CubeSats-22\">\n",
      "      <span class=\"cite-bracket\">\n",
      "       [\n",
      "      </span>\n",
      "      16\n",
      "      <span class=\"cite-bracket\">\n",
      "       ]\n",
      "      </span>\n",
      "     </a>\n",
      "    </sup>\n",
      "    and a wheel of\n",
      "    <a href=\"/wiki/Brou%C3%A8re\" title=\"Brouère\">\n",
      "     Brouère\n",
      "    </a>\n",
      "    cheese.\n",
      "   </td>\n",
      "  </tr>\n",
      "  <tr>\n",
      "   <th rowspan=\"2\" scope=\"row\" style=\"text-align:center;\">\n",
      "    3\n",
      "   </th>\n",
      "   <td>\n",
      "    22 May 2012,\n",
      "    <br/>\n",
      "    07:44\n",
      "    <sup class=\"reference\" id=\"cite_ref-BBC_new_era_23-0\">\n",
      "     <a href=\"#cite_note-BBC_new_era-23\">\n",
      "      <span class=\"cite-bracket\">\n",
      "       [\n",
      "      </span>\n",
      "      17\n",
      "      <span class=\"cite-bracket\">\n",
      "       ]\n",
      "      </span>\n",
      "     </a>\n",
      "    </sup>\n",
      "   </td>\n",
      "   <td>\n",
      "    <a href=\"/wiki/Falcon_9_v1.0\" title=\"Falcon 9 v1.0\">\n",
      "     F9 v1.0\n",
      "    </a>\n",
      "    <sup class=\"reference\" id=\"cite_ref-MuskMay2012_13-2\">\n",
      "     <a href=\"#cite_note-MuskMay2012-13\">\n",
      "      <span class=\"cite-bracket\">\n",
      "       [\n",
      "      </span>\n",
      "      7\n",
      "      <span class=\"cite-bracket\">\n",
      "       ]\n",
      "      </span>\n",
      "     </a>\n",
      "    </sup>\n",
      "    <br/>\n",
      "    B0005.1\n",
      "    <sup class=\"reference\" id=\"cite_ref-block_numbers_14-2\">\n",
      "     <a href=\"#cite_note-block_numbers-14\">\n",
      "      <span class=\"cite-bracket\">\n",
      "       [\n",
      "      </span>\n",
      "      8\n",
      "      <span class=\"cite-bracket\">\n",
      "       ]\n",
      "      </span>\n",
      "     </a>\n",
      "    </sup>\n",
      "   </td>\n",
      "   <td>\n",
      "    <a href=\"/wiki/Cape_Canaveral_Space_Force_Station\" title=\"Cape Canaveral Space Force Station\">\n",
      "     CCAFS\n",
      "    </a>\n",
      "    ,\n",
      "    <br/>\n",
      "    <a href=\"/wiki/Cape_Canaveral_Space_Launch_Complex_40\" title=\"Cape Canaveral Space Launch Complex 40\">\n",
      "     SLC-40\n",
      "    </a>\n",
      "   </td>\n",
      "   <td>\n",
      "    <a href=\"/wiki/SpaceX_Dragon\" title=\"SpaceX Dragon\">\n",
      "     Dragon\n",
      "    </a>\n",
      "    <a class=\"mw-redirect\" href=\"/wiki/Dragon_C2%2B\" title=\"Dragon C2+\">\n",
      "     demo flight C2+\n",
      "    </a>\n",
      "    <sup class=\"reference\" id=\"cite_ref-C2_24-0\">\n",
      "     <a href=\"#cite_note-C2-24\">\n",
      "      <span class=\"cite-bracket\">\n",
      "       [\n",
      "      </span>\n",
      "      18\n",
      "      <span class=\"cite-bracket\">\n",
      "       ]\n",
      "      </span>\n",
      "     </a>\n",
      "    </sup>\n",
      "    <br/>\n",
      "    (Dragon C102)\n",
      "   </td>\n",
      "   <td>\n",
      "    525 kg (1,157 lb)\n",
      "    <sup class=\"reference\" id=\"cite_ref-25\">\n",
      "     <a href=\"#cite_note-25\">\n",
      "      <span class=\"cite-bracket\">\n",
      "       [\n",
      "      </span>\n",
      "      19\n",
      "      <span class=\"cite-bracket\">\n",
      "       ]\n",
      "      </span>\n",
      "     </a>\n",
      "    </sup>\n",
      "   </td>\n",
      "   <td>\n",
      "    <a href=\"/wiki/Low_Earth_orbit\" title=\"Low Earth orbit\">\n",
      "     LEO\n",
      "    </a>\n",
      "    (\n",
      "    <a href=\"/wiki/International_Space_Station\" title=\"International Space Station\">\n",
      "     ISS\n",
      "    </a>\n",
      "    )\n",
      "   </td>\n",
      "   <td>\n",
      "    <a href=\"/wiki/NASA\" title=\"NASA\">\n",
      "     NASA\n",
      "    </a>\n",
      "    (\n",
      "    <a href=\"/wiki/Commercial_Orbital_Transportation_Services\" title=\"Commercial Orbital Transportation Services\">\n",
      "     COTS\n",
      "    </a>\n",
      "    )\n",
      "   </td>\n",
      "   <td class=\"table-success\" style=\"background: #9EFF9E; color:black; vertical-align: middle; text-align: center;\">\n",
      "    Success\n",
      "    <sup class=\"reference\" id=\"cite_ref-26\">\n",
      "     <a href=\"#cite_note-26\">\n",
      "      <span class=\"cite-bracket\">\n",
      "       [\n",
      "      </span>\n",
      "      20\n",
      "      <span class=\"cite-bracket\">\n",
      "       ]\n",
      "      </span>\n",
      "     </a>\n",
      "    </sup>\n",
      "   </td>\n",
      "   <td class=\"table-noAttempt\" style=\"background: #EEE; color:black; vertical-align: middle; white-space: nowrap; text-align: center;\">\n",
      "    No attempt\n",
      "   </td>\n",
      "  </tr>\n",
      "  <tr>\n",
      "   <td colspan=\"9\">\n",
      "    Dragon spacecraft demonstrated a series of tests before it was allowed to approach the\n",
      "    <a href=\"/wiki/International_Space_Station\" title=\"International Space Station\">\n",
      "     International Space Station\n",
      "    </a>\n",
      "    . Two days later, it became the first commercial spacecraft to board the ISS.\n",
      "    <sup class=\"reference\" id=\"cite_ref-BBC_new_era_23-1\">\n",
      "     <a href=\"#cite_note-BBC_new_era-23\">\n",
      "      <span class=\"cite-bracket\">\n",
      "       [\n",
      "      </span>\n",
      "      17\n",
      "      <span class=\"cite-bracket\">\n",
      "       ]\n",
      "      </span>\n",
      "     </a>\n",
      "    </sup>\n",
      "    <small>\n",
      "     (\n",
      "     <a href=\"#COTS_demo_missions\">\n",
      "      more details below\n",
      "     </a>\n",
      "     )\n",
      "    </small>\n",
      "   </td>\n",
      "  </tr>\n",
      "  <tr>\n",
      "   <th rowspan=\"3\" scope=\"row\" style=\"text-align:center;\">\n",
      "    4\n",
      "   </th>\n",
      "   <td rowspan=\"2\">\n",
      "    8 October 2012,\n",
      "    <br/>\n",
      "    00:35\n",
      "    <sup class=\"reference\" id=\"cite_ref-SFN_LLog_27-0\">\n",
      "     <a href=\"#cite_note-SFN_LLog-27\">\n",
      "      <span class=\"cite-bracket\">\n",
      "       [\n",
      "      </span>\n",
      "      21\n",
      "      <span class=\"cite-bracket\">\n",
      "       ]\n",
      "      </span>\n",
      "     </a>\n",
      "    </sup>\n",
      "   </td>\n",
      "   <td rowspan=\"2\">\n",
      "    <a href=\"/wiki/Falcon_9_v1.0\" title=\"Falcon 9 v1.0\">\n",
      "     F9 v1.0\n",
      "    </a>\n",
      "    <sup class=\"reference\" id=\"cite_ref-MuskMay2012_13-3\">\n",
      "     <a href=\"#cite_note-MuskMay2012-13\">\n",
      "      <span class=\"cite-bracket\">\n",
      "       [\n",
      "      </span>\n",
      "      7\n",
      "      <span class=\"cite-bracket\">\n",
      "       ]\n",
      "      </span>\n",
      "     </a>\n",
      "    </sup>\n",
      "    <br/>\n",
      "    B0006.1\n",
      "    <sup class=\"reference\" id=\"cite_ref-block_numbers_14-3\">\n",
      "     <a href=\"#cite_note-block_numbers-14\">\n",
      "      <span class=\"cite-bracket\">\n",
      "       [\n",
      "      </span>\n",
      "      8\n",
      "      <span class=\"cite-bracket\">\n",
      "       ]\n",
      "      </span>\n",
      "     </a>\n",
      "    </sup>\n",
      "   </td>\n",
      "   <td rowspan=\"2\">\n",
      "    <a href=\"/wiki/Cape_Canaveral_Space_Force_Station\" title=\"Cape Canaveral Space Force Station\">\n",
      "     CCAFS\n",
      "    </a>\n",
      "    ,\n",
      "    <br/>\n",
      "    <a href=\"/wiki/Cape_Canaveral_Space_Launch_Complex_40\" title=\"Cape Canaveral Space Launch Complex 40\">\n",
      "     SLC-40\n",
      "    </a>\n",
      "   </td>\n",
      "   <td>\n",
      "    <a href=\"/wiki/SpaceX_CRS-1\" title=\"SpaceX CRS-1\">\n",
      "     SpaceX CRS-1\n",
      "    </a>\n",
      "    <sup class=\"reference\" id=\"cite_ref-sxManifest20120925_28-0\">\n",
      "     <a href=\"#cite_note-sxManifest20120925-28\">\n",
      "      <span class=\"cite-bracket\">\n",
      "       [\n",
      "      </span>\n",
      "      22\n",
      "      <span class=\"cite-bracket\">\n",
      "       ]\n",
      "      </span>\n",
      "     </a>\n",
      "    </sup>\n",
      "    <br/>\n",
      "    (Dragon C103)\n",
      "   </td>\n",
      "   <td>\n",
      "    4,700 kg (10,400 lb)\n",
      "   </td>\n",
      "   <td>\n",
      "    <a href=\"/wiki/Low_Earth_orbit\" title=\"Low Earth orbit\">\n",
      "     LEO\n",
      "    </a>\n",
      "    (\n",
      "    <a href=\"/wiki/International_Space_Station\" title=\"International Space Station\">\n",
      "     ISS\n",
      "    </a>\n",
      "    )\n",
      "   </td>\n",
      "   <td>\n",
      "    <a href=\"/wiki/NASA\" title=\"NASA\">\n",
      "     NASA\n",
      "    </a>\n",
      "    (\n",
      "    <a href=\"/wiki/Commercial_Resupply_Services\" title=\"Commercial Resupply Services\">\n",
      "     CRS\n",
      "    </a>\n",
      "    )\n",
      "   </td>\n",
      "   <td class=\"table-success\" style=\"background: #9EFF9E; color:black; vertical-align: middle; text-align: center;\">\n",
      "    Success\n",
      "   </td>\n",
      "   <td rowspan=\"2\" style=\"background:#ececec; text-align:center;\">\n",
      "    <span class=\"nowrap\">\n",
      "     No attempt\n",
      "    </span>\n",
      "   </td>\n",
      "  </tr>\n",
      "  <tr>\n",
      "   <td>\n",
      "    <a href=\"/wiki/Orbcomm_(satellite)\" title=\"Orbcomm (satellite)\">\n",
      "     Orbcomm-OG2\n",
      "    </a>\n",
      "    <sup class=\"reference\" id=\"cite_ref-Orbcomm_29-0\">\n",
      "     <a href=\"#cite_note-Orbcomm-29\">\n",
      "      <span class=\"cite-bracket\">\n",
      "       [\n",
      "      </span>\n",
      "      23\n",
      "      <span class=\"cite-bracket\">\n",
      "       ]\n",
      "      </span>\n",
      "     </a>\n",
      "    </sup>\n",
      "   </td>\n",
      "   <td>\n",
      "    172 kg (379 lb)\n",
      "    <sup class=\"reference\" id=\"cite_ref-gunter-og2_30-0\">\n",
      "     <a href=\"#cite_note-gunter-og2-30\">\n",
      "      <span class=\"cite-bracket\">\n",
      "       [\n",
      "      </span>\n",
      "      24\n",
      "      <span class=\"cite-bracket\">\n",
      "       ]\n",
      "      </span>\n",
      "     </a>\n",
      "    </sup>\n",
      "   </td>\n",
      "   <td>\n",
      "    <a href=\"/wiki/Low_Earth_orbit\" title=\"Low Earth orbit\">\n",
      "     LEO\n",
      "    </a>\n",
      "   </td>\n",
      "   <td>\n",
      "    <a href=\"/wiki/Orbcomm\" title=\"Orbcomm\">\n",
      "     Orbcomm\n",
      "    </a>\n",
      "   </td>\n",
      "   <td class=\"table-partial\" style=\"background: #FFB; color:black; vertical-align: middle; text-align: center;\">\n",
      "    Partial failure\n",
      "    <sup class=\"reference\" id=\"cite_ref-nyt-20121030_31-0\">\n",
      "     <a href=\"#cite_note-nyt-20121030-31\">\n",
      "      <span class=\"cite-bracket\">\n",
      "       [\n",
      "      </span>\n",
      "      25\n",
      "      <span class=\"cite-bracket\">\n",
      "       ]\n",
      "      </span>\n",
      "     </a>\n",
      "    </sup>\n",
      "   </td>\n",
      "  </tr>\n",
      "  <tr>\n",
      "   <td colspan=\"9\">\n",
      "    CRS-1 was successful, but the\n",
      "    <a href=\"/wiki/Secondary_payload\" title=\"Secondary payload\">\n",
      "     secondary payload\n",
      "    </a>\n",
      "    was inserted into an abnormally low orbit and subsequently lost. This was due to one of the nine\n",
      "    <a href=\"/wiki/SpaceX_Merlin\" title=\"SpaceX Merlin\">\n",
      "     Merlin engines\n",
      "    </a>\n",
      "    shutting down during the launch, and NASA declining a second reignition, as per\n",
      "    <a href=\"/wiki/International_Space_Station\" title=\"International Space Station\">\n",
      "     ISS\n",
      "    </a>\n",
      "    visiting vehicle safety rules, the primary payload owner is contractually allowed to decline a second reignition. NASA stated that this was because SpaceX could not guarantee a high enough likelihood of the second stage completing the second burn successfully which was required to avoid any risk of secondary payload's collision with the ISS.\n",
      "    <sup class=\"reference\" id=\"cite_ref-OrbcommTotalLoss_32-0\">\n",
      "     <a href=\"#cite_note-OrbcommTotalLoss-32\">\n",
      "      <span class=\"cite-bracket\">\n",
      "       [\n",
      "      </span>\n",
      "      26\n",
      "      <span class=\"cite-bracket\">\n",
      "       ]\n",
      "      </span>\n",
      "     </a>\n",
      "    </sup>\n",
      "    <sup class=\"reference\" id=\"cite_ref-sn20121011_33-0\">\n",
      "     <a href=\"#cite_note-sn20121011-33\">\n",
      "      <span class=\"cite-bracket\">\n",
      "       [\n",
      "      </span>\n",
      "      27\n",
      "      <span class=\"cite-bracket\">\n",
      "       ]\n",
      "      </span>\n",
      "     </a>\n",
      "    </sup>\n",
      "    <sup class=\"reference\" id=\"cite_ref-34\">\n",
      "     <a href=\"#cite_note-34\">\n",
      "      <span class=\"cite-bracket\">\n",
      "       [\n",
      "      </span>\n",
      "      28\n",
      "      <span class=\"cite-bracket\">\n",
      "       ]\n",
      "      </span>\n",
      "     </a>\n",
      "    </sup>\n",
      "   </td>\n",
      "  </tr>\n",
      "  <tr>\n",
      "   <th rowspan=\"2\" scope=\"row\" style=\"text-align:center;\">\n",
      "    5\n",
      "   </th>\n",
      "   <td>\n",
      "    1 March 2013,\n",
      "    <br/>\n",
      "    15:10\n",
      "   </td>\n",
      "   <td>\n",
      "    <a href=\"/wiki/Falcon_9_v1.0\" title=\"Falcon 9 v1.0\">\n",
      "     F9 v1.0\n",
      "    </a>\n",
      "    <sup class=\"reference\" id=\"cite_ref-MuskMay2012_13-4\">\n",
      "     <a href=\"#cite_note-MuskMay2012-13\">\n",
      "      <span class=\"cite-bracket\">\n",
      "       [\n",
      "      </span>\n",
      "      7\n",
      "      <span class=\"cite-bracket\">\n",
      "       ]\n",
      "      </span>\n",
      "     </a>\n",
      "    </sup>\n",
      "    <br/>\n",
      "    B0007.1\n",
      "    <sup class=\"reference\" id=\"cite_ref-block_numbers_14-4\">\n",
      "     <a href=\"#cite_note-block_numbers-14\">\n",
      "      <span class=\"cite-bracket\">\n",
      "       [\n",
      "      </span>\n",
      "      8\n",
      "      <span class=\"cite-bracket\">\n",
      "       ]\n",
      "      </span>\n",
      "     </a>\n",
      "    </sup>\n",
      "   </td>\n",
      "   <td>\n",
      "    <a href=\"/wiki/Cape_Canaveral_Space_Force_Station\" title=\"Cape Canaveral Space Force Station\">\n",
      "     CCAFS\n",
      "    </a>\n",
      "    ,\n",
      "    <br/>\n",
      "    <a href=\"/wiki/Cape_Canaveral_Space_Launch_Complex_40\" title=\"Cape Canaveral Space Launch Complex 40\">\n",
      "     SLC-40\n",
      "    </a>\n",
      "   </td>\n",
      "   <td>\n",
      "    <a href=\"/wiki/SpaceX_CRS-2\" title=\"SpaceX CRS-2\">\n",
      "     SpaceX CRS-2\n",
      "    </a>\n",
      "    <sup class=\"reference\" id=\"cite_ref-sxManifest20120925_28-1\">\n",
      "     <a href=\"#cite_note-sxManifest20120925-28\">\n",
      "      <span class=\"cite-bracket\">\n",
      "       [\n",
      "      </span>\n",
      "      22\n",
      "      <span class=\"cite-bracket\">\n",
      "       ]\n",
      "      </span>\n",
      "     </a>\n",
      "    </sup>\n",
      "    <br/>\n",
      "    (Dragon C104)\n",
      "   </td>\n",
      "   <td>\n",
      "    4,877 kg (10,752 lb)\n",
      "   </td>\n",
      "   <td>\n",
      "    <a href=\"/wiki/Low_Earth_orbit\" title=\"Low Earth orbit\">\n",
      "     LEO\n",
      "    </a>\n",
      "    (\n",
      "    <a class=\"mw-redirect\" href=\"/wiki/ISS\" title=\"ISS\">\n",
      "     ISS\n",
      "    </a>\n",
      "    )\n",
      "   </td>\n",
      "   <td>\n",
      "    <a href=\"/wiki/NASA\" title=\"NASA\">\n",
      "     NASA\n",
      "    </a>\n",
      "    (\n",
      "    <a href=\"/wiki/Commercial_Resupply_Services\" title=\"Commercial Resupply Services\">\n",
      "     CRS\n",
      "    </a>\n",
      "    )\n",
      "   </td>\n",
      "   <td class=\"table-success\" style=\"background: #9EFF9E; color:black; vertical-align: middle; text-align: center;\">\n",
      "    Success\n",
      "   </td>\n",
      "   <td class=\"table-noAttempt\" style=\"background: #EEE; color:black; vertical-align: middle; white-space: nowrap; text-align: center;\">\n",
      "    No attempt\n",
      "   </td>\n",
      "  </tr>\n",
      "  <tr>\n",
      "   <td colspan=\"9\">\n",
      "    Last launch of the original Falcon 9 v1.0\n",
      "    <a href=\"/wiki/Launch_vehicle\" title=\"Launch vehicle\">\n",
      "     launch vehicle\n",
      "    </a>\n",
      "    , first use of the unpressurized trunk section of Dragon.\n",
      "    <sup class=\"reference\" id=\"cite_ref-sxf9_20110321_35-0\">\n",
      "     <a href=\"#cite_note-sxf9_20110321-35\">\n",
      "      <span class=\"cite-bracket\">\n",
      "       [\n",
      "      </span>\n",
      "      29\n",
      "      <span class=\"cite-bracket\">\n",
      "       ]\n",
      "      </span>\n",
      "     </a>\n",
      "    </sup>\n",
      "   </td>\n",
      "  </tr>\n",
      "  <tr>\n",
      "   <th rowspan=\"2\" scope=\"row\" style=\"text-align:center;\">\n",
      "    6\n",
      "   </th>\n",
      "   <td>\n",
      "    29 September 2013,\n",
      "    <br/>\n",
      "    16:00\n",
      "    <sup class=\"reference\" id=\"cite_ref-pa20130930_36-0\">\n",
      "     <a href=\"#cite_note-pa20130930-36\">\n",
      "      <span class=\"cite-bracket\">\n",
      "       [\n",
      "      </span>\n",
      "      30\n",
      "      <span class=\"cite-bracket\">\n",
      "       ]\n",
      "      </span>\n",
      "     </a>\n",
      "    </sup>\n",
      "   </td>\n",
      "   <td>\n",
      "    <a href=\"/wiki/Falcon_9_v1.1\" title=\"Falcon 9 v1.1\">\n",
      "     F9 v1.1\n",
      "    </a>\n",
      "    <sup class=\"reference\" id=\"cite_ref-MuskMay2012_13-5\">\n",
      "     <a href=\"#cite_note-MuskMay2012-13\">\n",
      "      <span class=\"cite-bracket\">\n",
      "       [\n",
      "      </span>\n",
      "      7\n",
      "      <span class=\"cite-bracket\">\n",
      "       ]\n",
      "      </span>\n",
      "     </a>\n",
      "    </sup>\n",
      "    <br/>\n",
      "    B1003\n",
      "    <sup class=\"reference\" id=\"cite_ref-block_numbers_14-5\">\n",
      "     <a href=\"#cite_note-block_numbers-14\">\n",
      "      <span class=\"cite-bracket\">\n",
      "       [\n",
      "      </span>\n",
      "      8\n",
      "      <span class=\"cite-bracket\">\n",
      "       ]\n",
      "      </span>\n",
      "     </a>\n",
      "    </sup>\n",
      "   </td>\n",
      "   <td>\n",
      "    <a class=\"mw-redirect\" href=\"/wiki/Vandenberg_Air_Force_Base\" title=\"Vandenberg Air Force Base\">\n",
      "     VAFB\n",
      "    </a>\n",
      "    ,\n",
      "    <br/>\n",
      "    <a href=\"/wiki/Vandenberg_Space_Launch_Complex_4\" title=\"Vandenberg Space Launch Complex 4\">\n",
      "     SLC-4E\n",
      "    </a>\n",
      "   </td>\n",
      "   <td>\n",
      "    <a href=\"/wiki/CASSIOPE\" title=\"CASSIOPE\">\n",
      "     CASSIOPE\n",
      "    </a>\n",
      "    <sup class=\"reference\" id=\"cite_ref-sxManifest20120925_28-2\">\n",
      "     <a href=\"#cite_note-sxManifest20120925-28\">\n",
      "      <span class=\"cite-bracket\">\n",
      "       [\n",
      "      </span>\n",
      "      22\n",
      "      <span class=\"cite-bracket\">\n",
      "       ]\n",
      "      </span>\n",
      "     </a>\n",
      "    </sup>\n",
      "    <sup class=\"reference\" id=\"cite_ref-CASSIOPE_MDA_37-0\">\n",
      "     <a href=\"#cite_note-CASSIOPE_MDA-37\">\n",
      "      <span class=\"cite-bracket\">\n",
      "       [\n",
      "      </span>\n",
      "      31\n",
      "      <span class=\"cite-bracket\">\n",
      "       ]\n",
      "      </span>\n",
      "     </a>\n",
      "    </sup>\n",
      "   </td>\n",
      "   <td>\n",
      "    500 kg (1,100 lb)\n",
      "   </td>\n",
      "   <td>\n",
      "    <a href=\"/wiki/Polar_orbit\" title=\"Polar orbit\">\n",
      "     Polar orbit\n",
      "    </a>\n",
      "    <a href=\"/wiki/Low_Earth_orbit\" title=\"Low Earth orbit\">\n",
      "     LEO\n",
      "    </a>\n",
      "   </td>\n",
      "   <td>\n",
      "    <a href=\"/wiki/Maxar_Technologies\" title=\"Maxar Technologies\">\n",
      "     MDA\n",
      "    </a>\n",
      "   </td>\n",
      "   <td class=\"table-success\" style=\"background: #9EFF9E; color:black; vertical-align: middle; text-align: center;\">\n",
      "    Success\n",
      "    <sup class=\"reference\" id=\"cite_ref-pa20130930_36-1\">\n",
      "     <a href=\"#cite_note-pa20130930-36\">\n",
      "      <span class=\"cite-bracket\">\n",
      "       [\n",
      "      </span>\n",
      "      30\n",
      "      <span class=\"cite-bracket\">\n",
      "       ]\n",
      "      </span>\n",
      "     </a>\n",
      "    </sup>\n",
      "   </td>\n",
      "   <td class=\"table-no2\" style=\"background: #FFE3E3; color: black; vertical-align: middle; text-align: center;\">\n",
      "    Uncontrolled\n",
      "    <br/>\n",
      "    <small>\n",
      "     (ocean)\n",
      "    </small>\n",
      "    <sup class=\"reference\" id=\"cite_ref-ocean_landing_38-0\">\n",
      "     <a href=\"#cite_note-ocean_landing-38\">\n",
      "      <span class=\"cite-bracket\">\n",
      "       [\n",
      "      </span>\n",
      "      d\n",
      "      <span class=\"cite-bracket\">\n",
      "       ]\n",
      "      </span>\n",
      "     </a>\n",
      "    </sup>\n",
      "   </td>\n",
      "  </tr>\n",
      "  <tr>\n",
      "   <td colspan=\"9\">\n",
      "    First commercial mission with a private customer, first launch from Vandenberg, and demonstration flight of Falcon 9 v1.1 with an improved 13-tonne to LEO capacity.\n",
      "    <sup class=\"reference\" id=\"cite_ref-sxf9_20110321_35-1\">\n",
      "     <a href=\"#cite_note-sxf9_20110321-35\">\n",
      "      <span class=\"cite-bracket\">\n",
      "       [\n",
      "      </span>\n",
      "      29\n",
      "      <span class=\"cite-bracket\">\n",
      "       ]\n",
      "      </span>\n",
      "     </a>\n",
      "    </sup>\n",
      "    After separation from the second stage carrying Canadian commercial and scientific satellites, the first stage booster performed a controlled reentry,\n",
      "    <sup class=\"reference\" id=\"cite_ref-39\">\n",
      "     <a href=\"#cite_note-39\">\n",
      "      <span class=\"cite-bracket\">\n",
      "       [\n",
      "      </span>\n",
      "      32\n",
      "      <span class=\"cite-bracket\">\n",
      "       ]\n",
      "      </span>\n",
      "     </a>\n",
      "    </sup>\n",
      "    and an\n",
      "    <a href=\"/wiki/Falcon_9_first-stage_landing_tests\" title=\"Falcon 9 first-stage landing tests\">\n",
      "     ocean touchdown test\n",
      "    </a>\n",
      "    for the first time. This provided good test data, even though the booster started rolling as it neared the ocean, leading to the shutdown of the central engine as the roll depleted it of fuel, resulting in a hard impact with the ocean.\n",
      "    <sup class=\"reference\" id=\"cite_ref-pa20130930_36-2\">\n",
      "     <a href=\"#cite_note-pa20130930-36\">\n",
      "      <span class=\"cite-bracket\">\n",
      "       [\n",
      "      </span>\n",
      "      30\n",
      "      <span class=\"cite-bracket\">\n",
      "       ]\n",
      "      </span>\n",
      "     </a>\n",
      "    </sup>\n",
      "    This was the first known attempt of a rocket engine being lit to perform a supersonic retro propulsion, and allowed SpaceX to enter a public-private partnership with\n",
      "    <a href=\"/wiki/NASA\" title=\"NASA\">\n",
      "     NASA\n",
      "    </a>\n",
      "    and its Mars entry, descent, and landing technologies research projects.\n",
      "    <sup class=\"reference\" id=\"cite_ref-40\">\n",
      "     <a href=\"#cite_note-40\">\n",
      "      <span class=\"cite-bracket\">\n",
      "       [\n",
      "      </span>\n",
      "      33\n",
      "      <span class=\"cite-bracket\">\n",
      "       ]\n",
      "      </span>\n",
      "     </a>\n",
      "    </sup>\n",
      "    <small>\n",
      "     (\n",
      "     <a href=\"#Maiden_flight_of_v1.1\">\n",
      "      more details below\n",
      "     </a>\n",
      "     )\n",
      "    </small>\n",
      "   </td>\n",
      "  </tr>\n",
      "  <tr>\n",
      "   <th rowspan=\"2\" scope=\"row\" style=\"text-align:center;\">\n",
      "    7\n",
      "   </th>\n",
      "   <td>\n",
      "    3 December 2013,\n",
      "    <br/>\n",
      "    22:41\n",
      "    <sup class=\"reference\" id=\"cite_ref-sfn_wwls20130624_41-0\">\n",
      "     <a href=\"#cite_note-sfn_wwls20130624-41\">\n",
      "      <span class=\"cite-bracket\">\n",
      "       [\n",
      "      </span>\n",
      "      34\n",
      "      <span class=\"cite-bracket\">\n",
      "       ]\n",
      "      </span>\n",
      "     </a>\n",
      "    </sup>\n",
      "   </td>\n",
      "   <td>\n",
      "    <a href=\"/wiki/Falcon_9_v1.1\" title=\"Falcon 9 v1.1\">\n",
      "     F9 v1.1\n",
      "    </a>\n",
      "    <br/>\n",
      "    B1004\n",
      "   </td>\n",
      "   <td>\n",
      "    <a href=\"/wiki/Cape_Canaveral_Space_Force_Station\" title=\"Cape Canaveral Space Force Station\">\n",
      "     CCAFS\n",
      "    </a>\n",
      "    ,\n",
      "    <br/>\n",
      "    <a href=\"/wiki/Cape_Canaveral_Space_Launch_Complex_40\" title=\"Cape Canaveral Space Launch Complex 40\">\n",
      "     SLC-40\n",
      "    </a>\n",
      "   </td>\n",
      "   <td>\n",
      "    <a href=\"/wiki/SES-8\" title=\"SES-8\">\n",
      "     SES-8\n",
      "    </a>\n",
      "    <sup class=\"reference\" id=\"cite_ref-sxManifest20120925_28-3\">\n",
      "     <a href=\"#cite_note-sxManifest20120925-28\">\n",
      "      <span class=\"cite-bracket\">\n",
      "       [\n",
      "      </span>\n",
      "      22\n",
      "      <span class=\"cite-bracket\">\n",
      "       ]\n",
      "      </span>\n",
      "     </a>\n",
      "    </sup>\n",
      "    <sup class=\"reference\" id=\"cite_ref-spx-pr_42-0\">\n",
      "     <a href=\"#cite_note-spx-pr-42\">\n",
      "      <span class=\"cite-bracket\">\n",
      "       [\n",
      "      </span>\n",
      "      35\n",
      "      <span class=\"cite-bracket\">\n",
      "       ]\n",
      "      </span>\n",
      "     </a>\n",
      "    </sup>\n",
      "    <sup class=\"reference\" id=\"cite_ref-aw20110323_43-0\">\n",
      "     <a href=\"#cite_note-aw20110323-43\">\n",
      "      <span class=\"cite-bracket\">\n",
      "       [\n",
      "      </span>\n",
      "      36\n",
      "      <span class=\"cite-bracket\">\n",
      "       ]\n",
      "      </span>\n",
      "     </a>\n",
      "    </sup>\n",
      "   </td>\n",
      "   <td>\n",
      "    3,170 kg (6,990 lb)\n",
      "   </td>\n",
      "   <td>\n",
      "    <a href=\"/wiki/Geostationary_transfer_orbit\" title=\"Geostationary transfer orbit\">\n",
      "     GTO\n",
      "    </a>\n",
      "   </td>\n",
      "   <td>\n",
      "    <a class=\"mw-redirect\" href=\"/wiki/SES_S.A.\" title=\"SES S.A.\">\n",
      "     SES\n",
      "    </a>\n",
      "   </td>\n",
      "   <td class=\"table-success\" style=\"background: #9EFF9E; color:black; vertical-align: middle; text-align: center;\">\n",
      "    Success\n",
      "    <sup class=\"reference\" id=\"cite_ref-SNMissionStatus7_44-0\">\n",
      "     <a href=\"#cite_note-SNMissionStatus7-44\">\n",
      "      <span class=\"cite-bracket\">\n",
      "       [\n",
      "      </span>\n",
      "      37\n",
      "      <span class=\"cite-bracket\">\n",
      "       ]\n",
      "      </span>\n",
      "     </a>\n",
      "    </sup>\n",
      "   </td>\n",
      "   <td class=\"table-noAttempt\" style=\"background: #EEE; color:black; vertical-align: middle; white-space: nowrap; text-align: center;\">\n",
      "    No attempt\n",
      "    <br/>\n",
      "    <sup class=\"reference\" id=\"cite_ref-sf10120131203_45-0\">\n",
      "     <a href=\"#cite_note-sf10120131203-45\">\n",
      "      <span class=\"cite-bracket\">\n",
      "       [\n",
      "      </span>\n",
      "      38\n",
      "      <span class=\"cite-bracket\">\n",
      "       ]\n",
      "      </span>\n",
      "     </a>\n",
      "    </sup>\n",
      "   </td>\n",
      "  </tr>\n",
      "  <tr>\n",
      "   <td colspan=\"9\">\n",
      "    First\n",
      "    <a href=\"/wiki/Geostationary_transfer_orbit\" title=\"Geostationary transfer orbit\">\n",
      "     Geostationary transfer orbit\n",
      "    </a>\n",
      "    (GTO) launch for Falcon 9,\n",
      "    <sup class=\"reference\" id=\"cite_ref-spx-pr_42-1\">\n",
      "     <a href=\"#cite_note-spx-pr-42\">\n",
      "      <span class=\"cite-bracket\">\n",
      "       [\n",
      "      </span>\n",
      "      35\n",
      "      <span class=\"cite-bracket\">\n",
      "       ]\n",
      "      </span>\n",
      "     </a>\n",
      "    </sup>\n",
      "    and first successful reignition of the second stage.\n",
      "    <sup class=\"reference\" id=\"cite_ref-46\">\n",
      "     <a href=\"#cite_note-46\">\n",
      "      <span class=\"cite-bracket\">\n",
      "       [\n",
      "      </span>\n",
      "      39\n",
      "      <span class=\"cite-bracket\">\n",
      "       ]\n",
      "      </span>\n",
      "     </a>\n",
      "    </sup>\n",
      "    SES-8 was inserted into a\n",
      "    <a href=\"/wiki/Geostationary_transfer_orbit\" title=\"Geostationary transfer orbit\">\n",
      "     Super-Synchronous Transfer Orbit\n",
      "    </a>\n",
      "    of 79,341 km (49,300 mi) in apogee with an\n",
      "    <a href=\"/wiki/Orbital_inclination\" title=\"Orbital inclination\">\n",
      "     inclination\n",
      "    </a>\n",
      "    of 20.55° to the\n",
      "    <a href=\"/wiki/Equator\" title=\"Equator\">\n",
      "     equator\n",
      "    </a>\n",
      "    .\n",
      "   </td>\n",
      "  </tr>\n",
      " </tbody>\n",
      "</table>\n",
      "\n"
     ]
    }
   ],
   "source": [
    "# The third table (index 2) is our target table that contains the actual launch records\n",
    "first_launch_table = html_tables[2]\n",
    "\n",
    "# Print the content of the third table to verify\n",
    "print(first_launch_table.prettify())"
   ]
  },
  {
   "cell_type": "markdown",
   "metadata": {},
   "source": [
    "You should able to see the columns names embedded in the table header elements `<th>` as follows:\n"
   ]
  },
  {
   "cell_type": "markdown",
   "metadata": {},
   "source": [
    "```\n",
    "<tr>\n",
    "<th scope=\"col\">Flight No.\n",
    "</th>\n",
    "<th scope=\"col\">Date and<br/>time (<a href=\"/wiki/Coordinated_Universal_Time\" title=\"Coordinated Universal Time\">UTC</a>)\n",
    "</th>\n",
    "<th scope=\"col\"><a href=\"/wiki/List_of_Falcon_9_first-stage_boosters\" title=\"List of Falcon 9 first-stage boosters\">Version,<br/>Booster</a> <sup class=\"reference\" id=\"cite_ref-booster_11-0\"><a href=\"#cite_note-booster-11\">[b]</a></sup>\n",
    "</th>\n",
    "<th scope=\"col\">Launch site\n",
    "</th>\n",
    "<th scope=\"col\">Payload<sup class=\"reference\" id=\"cite_ref-Dragon_12-0\"><a href=\"#cite_note-Dragon-12\">[c]</a></sup>\n",
    "</th>\n",
    "<th scope=\"col\">Payload mass\n",
    "</th>\n",
    "<th scope=\"col\">Orbit\n",
    "</th>\n",
    "<th scope=\"col\">Customer\n",
    "</th>\n",
    "<th scope=\"col\">Launch<br/>outcome\n",
    "</th>\n",
    "<th scope=\"col\"><a href=\"/wiki/Falcon_9_first-stage_landing_tests\" title=\"Falcon 9 first-stage landing tests\">Booster<br/>landing</a>\n",
    "</th></tr>\n",
    "```\n"
   ]
  },
  {
   "cell_type": "markdown",
   "metadata": {},
   "source": [
    "Next, we just need to iterate through the `<th>` elements and apply the provided `extract_column_from_header()` to extract column name one by one\n"
   ]
  },
  {
   "cell_type": "code",
   "execution_count": 10,
   "metadata": {
    "tags": []
   },
   "outputs": [
    {
     "name": "stdout",
     "output_type": "stream",
     "text": [
      "Extracted Column Names:\n",
      "['Flight No.', 'Date and time ( )', 'Launch site', 'Payload', 'Payload mass', 'Orbit', 'Customer', 'Launch outcome']\n"
     ]
    }
   ],
   "source": [
    "# Define the list to hold the column names\n",
    "column_names = []\n",
    "\n",
    "# Iterate through each <th> element in the table header and extract the column name\n",
    "for th in first_launch_table.find_all('th'):\n",
    "    name = extract_column_from_header(th)\n",
    "    if name is not None and len(name) > 0:\n",
    "        column_names.append(name)\n",
    "\n",
    "# Print the extracted column names\n",
    "print(\"Extracted Column Names:\")\n",
    "print(column_names)"
   ]
  },
  {
   "cell_type": "markdown",
   "metadata": {},
   "source": [
    "Check the extracted column names\n"
   ]
  },
  {
   "cell_type": "code",
   "execution_count": 11,
   "metadata": {
    "tags": []
   },
   "outputs": [
    {
     "name": "stdout",
     "output_type": "stream",
     "text": [
      "Extracted Column Names:\n",
      "['Flight No.', 'Date and time ( )', 'Launch site', 'Payload', 'Payload mass', 'Orbit', 'Customer', 'Launch outcome']\n"
     ]
    },
    {
     "data": {
      "text/plain": [
       "['Flight No.',\n",
       " 'Date and time ( )',\n",
       " 'Launch site',\n",
       " 'Payload',\n",
       " 'Payload mass',\n",
       " 'Orbit',\n",
       " 'Customer',\n",
       " 'Launch outcome']"
      ]
     },
     "execution_count": 11,
     "metadata": {},
     "output_type": "execute_result"
    }
   ],
   "source": [
    "# Print the extracted column names to verify\n",
    "print(\"Extracted Column Names:\")\n",
    "print(column_names)\n",
    "#Extracted Column Names:\n",
    "['Flight No.', 'Date and time ( )', 'Launch site', 'Payload', 'Payload mass', 'Orbit', 'Customer', 'Launch outcome']"
   ]
  },
  {
   "cell_type": "markdown",
   "metadata": {},
   "source": [
    "## TASK 3: Create a data frame by parsing the launch HTML tables\n"
   ]
  },
  {
   "cell_type": "markdown",
   "metadata": {},
   "source": [
    "We will create an empty dictionary with keys from the extracted column names in the previous task. Later, this dictionary will be converted into a Pandas dataframe\n"
   ]
  },
  {
   "cell_type": "code",
   "execution_count": 12,
   "metadata": {
    "tags": []
   },
   "outputs": [
    {
     "name": "stdout",
     "output_type": "stream",
     "text": [
      "Initialized launch_dict keys:\n",
      "dict_keys(['Flight No.', 'Launch site', 'Payload', 'Payload mass', 'Orbit', 'Customer', 'Launch outcome', 'Version Booster', 'Booster landing', 'Date', 'Time'])\n"
     ]
    }
   ],
   "source": [
    "# Create a dictionary with keys from the extracted column names\n",
    "launch_dict = dict.fromkeys(column_names)\n",
    "\n",
    "# Remove the irrelevant column \"Date and time ( )\"\n",
    "del launch_dict['Date and time ( )']\n",
    "\n",
    "# Initialize each key in the dictionary with an empty list\n",
    "launch_dict['Flight No.'] = []\n",
    "launch_dict['Launch site'] = []\n",
    "launch_dict['Payload'] = []\n",
    "launch_dict['Payload mass'] = []\n",
    "launch_dict['Orbit'] = []\n",
    "launch_dict['Customer'] = []\n",
    "launch_dict['Launch outcome'] = []\n",
    "\n",
    "# Add additional columns that were not in the original table headers\n",
    "launch_dict['Version Booster'] = []\n",
    "launch_dict['Booster landing'] = []\n",
    "launch_dict['Date'] = []\n",
    "launch_dict['Time'] = []\n",
    "\n",
    "# Print the initialized dictionary keys to verify\n",
    "print(\"Initialized launch_dict keys:\")\n",
    "print(launch_dict.keys())"
   ]
  },
  {
   "cell_type": "markdown",
   "metadata": {},
   "source": [
    "Next, we just need to fill up the `launch_dict` with launch records extracted from table rows.\n"
   ]
  },
  {
   "cell_type": "markdown",
   "metadata": {},
   "source": [
    "Usually, HTML tables in Wiki pages are likely to contain unexpected annotations and other types of noises, such as reference links `B0004.1[8]`, missing values `N/A [e]`, inconsistent formatting, etc.\n"
   ]
  },
  {
   "cell_type": "markdown",
   "metadata": {},
   "source": [
    "To simplify the parsing process, we have provided an incomplete code snippet below to help you to fill up the `launch_dict`. Please complete the following code snippet with TODOs or you can choose to write your own logic to parse all launch tables:\n"
   ]
  },
  {
   "cell_type": "code",
   "execution_count": 13,
   "metadata": {
    "tags": []
   },
   "outputs": [
    {
     "name": "stdout",
     "output_type": "stream",
     "text": [
      "Number of rows extracted: 121\n"
     ]
    }
   ],
   "source": [
    "extracted_row = 0\n",
    "\n",
    "# Extract each table \n",
    "for table_number, table in enumerate(soup.find_all('table', \"wikitable plainrowheaders collapsible\")):\n",
    "    # Get each table row \n",
    "    for rows in table.find_all(\"tr\"):\n",
    "        # Check to see if the first table heading is a number corresponding to a launch number \n",
    "        if rows.th:\n",
    "            if rows.th.string:\n",
    "                flight_number = rows.th.string.strip()\n",
    "                flag = flight_number.isdigit()\n",
    "        else:\n",
    "            flag = False\n",
    "        \n",
    "        # Get table elements \n",
    "        row = rows.find_all('td')\n",
    "        \n",
    "        # If it is a number, save cells in the dictionary \n",
    "        if flag:\n",
    "            extracted_row += 1\n",
    "            \n",
    "            # Flight Number value\n",
    "            launch_dict['Flight No.'].append(flight_number)\n",
    "            \n",
    "            # Date and Time values\n",
    "            datatimelist = date_time(row[0])\n",
    "            launch_dict['Date'].append(datatimelist[0].strip(','))\n",
    "            launch_dict['Time'].append(datatimelist[1])\n",
    "              \n",
    "            # Booster version\n",
    "            bv = booster_version(row[1])\n",
    "            if not(bv):\n",
    "                bv = row[1].a.string if row[1].a else \"N/A\"\n",
    "            launch_dict['Version Booster'].append(bv)\n",
    "            \n",
    "            # Launch Site\n",
    "            launch_site = row[2].a.string if row[2].a else \"N/A\"\n",
    "            launch_dict['Launch site'].append(launch_site)\n",
    "            \n",
    "            # Payload\n",
    "            payload = row[3].a.string if row[3].a else \"N/A\"\n",
    "            launch_dict['Payload'].append(payload)\n",
    "            \n",
    "            # Payload Mass\n",
    "            payload_mass = get_mass(row[4])\n",
    "            launch_dict['Payload mass'].append(payload_mass)\n",
    "            \n",
    "            # Orbit\n",
    "            orbit = row[5].a.string if row[5].a else \"N/A\"\n",
    "            launch_dict['Orbit'].append(orbit)\n",
    "            \n",
    "            # Customer\n",
    "            customer = row[6].a.string if row[6].a else \"N/A\"\n",
    "            launch_dict['Customer'].append(customer)\n",
    "            \n",
    "            # Launch outcome\n",
    "            launch_outcome = list(row[7].strings)[0]\n",
    "            launch_dict['Launch outcome'].append(launch_outcome)\n",
    "            \n",
    "            # Booster landing\n",
    "            booster_landing = landing_status(row[8])\n",
    "            launch_dict['Booster landing'].append(booster_landing)\n",
    "\n",
    "# Check the number of rows extracted\n",
    "print(f\"Number of rows extracted: {extracted_row}\")"
   ]
  },
  {
   "cell_type": "markdown",
   "metadata": {},
   "source": [
    "After you have fill in the parsed launch record values into `launch_dict`, you can create a dataframe from it.\n"
   ]
  },
  {
   "cell_type": "code",
   "execution_count": 14,
   "metadata": {
    "tags": []
   },
   "outputs": [
    {
     "name": "stdout",
     "output_type": "stream",
     "text": [
      "Flight No.: 121\n",
      "Launch site: 121\n",
      "Payload: 121\n",
      "Payload mass: 121\n",
      "Orbit: 121\n",
      "Customer: 121\n",
      "Launch outcome: 121\n",
      "Version Booster: 121\n",
      "Booster landing: 121\n",
      "Date: 121\n",
      "Time: 121\n"
     ]
    }
   ],
   "source": [
    "for key in launch_dict:\n",
    "    print(f\"{key}: {len(launch_dict[key])}\")"
   ]
  },
  {
   "cell_type": "markdown",
   "metadata": {},
   "source": [
    "We can now export it to a <b>CSV</b> for the next section, but to make the answers consistent and in case you have difficulties finishing this lab. \n",
    "\n",
    "Following labs will be using a provided dataset to make each lab independent. \n"
   ]
  },
  {
   "cell_type": "code",
   "execution_count": 15,
   "metadata": {
    "tags": []
   },
   "outputs": [
    {
     "name": "stdout",
     "output_type": "stream",
     "text": [
      "2006.0\n"
     ]
    }
   ],
   "source": [
    "import requests\n",
    "import pandas as pd\n",
    "\n",
    "# Perform the GET request on the SpaceX API\n",
    "response = requests.get(\"https://api.spacexdata.com/v4/launches\")\n",
    "\n",
    "# Convert the response to a DataFrame\n",
    "data = pd.json_normalize(response.json())\n",
    "\n",
    "# Extract the first year from the 'static_fire_date_utc' column\n",
    "first_year = pd.to_datetime(data['static_fire_date_utc']).dt.year.iloc[0]\n",
    "print(first_year)"
   ]
  },
  {
   "cell_type": "markdown",
   "metadata": {},
   "source": [
    "<code>df.to_csv('spacex_web_scraped.csv', index=False)</code>\n"
   ]
  },
  {
   "cell_type": "code",
   "execution_count": 16,
   "metadata": {
    "tags": []
   },
   "outputs": [
    {
     "name": "stdout",
     "output_type": "stream",
     "text": [
      "0\n"
     ]
    }
   ],
   "source": [
    "# Filter out Falcon 1 launches\n",
    "falcon9_launches = data[data['rocket'] == 'Falcon 9']\n",
    "\n",
    "# Count the number of Falcon 9 launches\n",
    "falcon9_count = len(falcon9_launches)\n",
    "print(falcon9_count)"
   ]
  },
  {
   "cell_type": "code",
   "execution_count": 30,
   "metadata": {
    "tags": []
   },
   "outputs": [
    {
     "name": "stdout",
     "output_type": "stream",
     "text": [
      "<class 'pandas.core.series.Series'>\n",
      "0    [{'core': '5e9e289df35918033d3b2623', 'flight'...\n",
      "1    [{'core': '5e9e289ef35918416a3b2624', 'flight'...\n",
      "2    [{'core': '5e9e289ef3591814873b2625', 'flight'...\n",
      "3    [{'core': '5e9e289ef3591855dc3b2626', 'flight'...\n",
      "4    [{'core': '5e9e289ef359184f103b2627', 'flight'...\n",
      "Name: cores, dtype: object\n"
     ]
    }
   ],
   "source": [
    "# Check the type of the 'cores' column\n",
    "print(type(data['cores']))\n",
    "\n",
    "# Print out a sample of the 'cores' column to understand its structure\n",
    "print(data['cores'].head())"
   ]
  },
  {
   "cell_type": "code",
   "execution_count": 31,
   "metadata": {
    "tags": []
   },
   "outputs": [
    {
     "name": "stdout",
     "output_type": "stream",
     "text": [
      "RangeIndex(start=0, stop=3, step=1)\n"
     ]
    }
   ],
   "source": [
    "# Normalize the 'cores' column if it contains nested data\n",
    "core_info_normalized = pd.json_normalize(data['cores'])\n",
    "\n",
    "# Check the columns in the normalized DataFrame\n",
    "print(core_info_normalized.columns)"
   ]
  },
  {
   "cell_type": "code",
   "execution_count": 32,
   "metadata": {
    "tags": []
   },
   "outputs": [
    {
     "name": "stdout",
     "output_type": "stream",
     "text": [
      "The 'landing_pad' column was not found.\n"
     ]
    }
   ],
   "source": [
    "# If 'landing_pad' exists, count the missing values\n",
    "if 'landing_pad' in core_info_normalized.columns:\n",
    "    missing_landingPad = core_info_normalized['landing_pad'].isna().sum()\n",
    "    print(f\"Missing landing_pad values: {missing_landingPad}\")\n",
    "else:\n",
    "    print(\"The 'landing_pad' column was not found.\")"
   ]
  },
  {
   "cell_type": "code",
   "execution_count": 18,
   "metadata": {
    "tags": []
   },
   "outputs": [
    {
     "name": "stdout",
     "output_type": "stream",
     "text": [
      "Index(['static_fire_date_utc', 'static_fire_date_unix', 'net', 'window',\n",
      "       'rocket', 'success', 'failures', 'details', 'crew', 'ships', 'capsules',\n",
      "       'payloads', 'launchpad', 'flight_number', 'name', 'date_utc',\n",
      "       'date_unix', 'date_local', 'date_precision', 'upcoming', 'cores',\n",
      "       'auto_update', 'tbd', 'launch_library_id', 'id', 'fairings.reused',\n",
      "       'fairings.recovery_attempt', 'fairings.recovered', 'fairings.ships',\n",
      "       'links.patch.small', 'links.patch.large', 'links.reddit.campaign',\n",
      "       'links.reddit.launch', 'links.reddit.media', 'links.reddit.recovery',\n",
      "       'links.flickr.small', 'links.flickr.original', 'links.presskit',\n",
      "       'links.webcast', 'links.youtube_id', 'links.article', 'links.wikipedia',\n",
      "       'fairings'],\n",
      "      dtype='object')\n"
     ]
    }
   ],
   "source": [
    "# Print the column names to verify if 'landingPad' exists\n",
    "print(data.columns)"
   ]
  },
  {
   "cell_type": "code",
   "execution_count": 29,
   "metadata": {
    "tags": []
   },
   "outputs": [
    {
     "ename": "KeyError",
     "evalue": "'landing_pad'",
     "output_type": "error",
     "traceback": [
      "\u001b[0;31m---------------------------------------------------------------------------\u001b[0m",
      "\u001b[0;31mKeyError\u001b[0m                                  Traceback (most recent call last)",
      "\u001b[0;32m/tmp/ipykernel_664/3133788399.py\u001b[0m in \u001b[0;36m<module>\u001b[0;34m\u001b[0m\n\u001b[1;32m      3\u001b[0m \u001b[0;34m\u001b[0m\u001b[0m\n\u001b[1;32m      4\u001b[0m \u001b[0;31m# Extract the 'landing_pad' column\u001b[0m\u001b[0;34m\u001b[0m\u001b[0;34m\u001b[0m\u001b[0;34m\u001b[0m\u001b[0m\n\u001b[0;32m----> 5\u001b[0;31m \u001b[0mlanding_pad_column\u001b[0m \u001b[0;34m=\u001b[0m \u001b[0mcore_info\u001b[0m\u001b[0;34m[\u001b[0m\u001b[0;34m'landing_pad'\u001b[0m\u001b[0;34m]\u001b[0m\u001b[0;34m\u001b[0m\u001b[0;34m\u001b[0m\u001b[0m\n\u001b[0m\u001b[1;32m      6\u001b[0m \u001b[0;34m\u001b[0m\u001b[0m\n\u001b[1;32m      7\u001b[0m \u001b[0;31m# Check for missing values in the 'landing_pad' column\u001b[0m\u001b[0;34m\u001b[0m\u001b[0;34m\u001b[0m\u001b[0;34m\u001b[0m\u001b[0m\n",
      "\u001b[0;32m~/conda/envs/python/lib/python3.7/site-packages/pandas/core/frame.py\u001b[0m in \u001b[0;36m__getitem__\u001b[0;34m(self, key)\u001b[0m\n\u001b[1;32m   3456\u001b[0m             \u001b[0;32mif\u001b[0m \u001b[0mself\u001b[0m\u001b[0;34m.\u001b[0m\u001b[0mcolumns\u001b[0m\u001b[0;34m.\u001b[0m\u001b[0mnlevels\u001b[0m \u001b[0;34m>\u001b[0m \u001b[0;36m1\u001b[0m\u001b[0;34m:\u001b[0m\u001b[0;34m\u001b[0m\u001b[0;34m\u001b[0m\u001b[0m\n\u001b[1;32m   3457\u001b[0m                 \u001b[0;32mreturn\u001b[0m \u001b[0mself\u001b[0m\u001b[0;34m.\u001b[0m\u001b[0m_getitem_multilevel\u001b[0m\u001b[0;34m(\u001b[0m\u001b[0mkey\u001b[0m\u001b[0;34m)\u001b[0m\u001b[0;34m\u001b[0m\u001b[0;34m\u001b[0m\u001b[0m\n\u001b[0;32m-> 3458\u001b[0;31m             \u001b[0mindexer\u001b[0m \u001b[0;34m=\u001b[0m \u001b[0mself\u001b[0m\u001b[0;34m.\u001b[0m\u001b[0mcolumns\u001b[0m\u001b[0;34m.\u001b[0m\u001b[0mget_loc\u001b[0m\u001b[0;34m(\u001b[0m\u001b[0mkey\u001b[0m\u001b[0;34m)\u001b[0m\u001b[0;34m\u001b[0m\u001b[0;34m\u001b[0m\u001b[0m\n\u001b[0m\u001b[1;32m   3459\u001b[0m             \u001b[0;32mif\u001b[0m \u001b[0mis_integer\u001b[0m\u001b[0;34m(\u001b[0m\u001b[0mindexer\u001b[0m\u001b[0;34m)\u001b[0m\u001b[0;34m:\u001b[0m\u001b[0;34m\u001b[0m\u001b[0;34m\u001b[0m\u001b[0m\n\u001b[1;32m   3460\u001b[0m                 \u001b[0mindexer\u001b[0m \u001b[0;34m=\u001b[0m \u001b[0;34m[\u001b[0m\u001b[0mindexer\u001b[0m\u001b[0;34m]\u001b[0m\u001b[0;34m\u001b[0m\u001b[0;34m\u001b[0m\u001b[0m\n",
      "\u001b[0;32m~/conda/envs/python/lib/python3.7/site-packages/pandas/core/indexes/range.py\u001b[0m in \u001b[0;36mget_loc\u001b[0;34m(self, key, method, tolerance)\u001b[0m\n\u001b[1;32m    386\u001b[0m                 \u001b[0;32mexcept\u001b[0m \u001b[0mValueError\u001b[0m \u001b[0;32mas\u001b[0m \u001b[0merr\u001b[0m\u001b[0;34m:\u001b[0m\u001b[0;34m\u001b[0m\u001b[0;34m\u001b[0m\u001b[0m\n\u001b[1;32m    387\u001b[0m                     \u001b[0;32mraise\u001b[0m \u001b[0mKeyError\u001b[0m\u001b[0;34m(\u001b[0m\u001b[0mkey\u001b[0m\u001b[0;34m)\u001b[0m \u001b[0;32mfrom\u001b[0m \u001b[0merr\u001b[0m\u001b[0;34m\u001b[0m\u001b[0;34m\u001b[0m\u001b[0m\n\u001b[0;32m--> 388\u001b[0;31m             \u001b[0;32mraise\u001b[0m \u001b[0mKeyError\u001b[0m\u001b[0;34m(\u001b[0m\u001b[0mkey\u001b[0m\u001b[0;34m)\u001b[0m\u001b[0;34m\u001b[0m\u001b[0;34m\u001b[0m\u001b[0m\n\u001b[0m\u001b[1;32m    389\u001b[0m         \u001b[0;32mreturn\u001b[0m \u001b[0msuper\u001b[0m\u001b[0;34m(\u001b[0m\u001b[0;34m)\u001b[0m\u001b[0;34m.\u001b[0m\u001b[0mget_loc\u001b[0m\u001b[0;34m(\u001b[0m\u001b[0mkey\u001b[0m\u001b[0;34m,\u001b[0m \u001b[0mmethod\u001b[0m\u001b[0;34m=\u001b[0m\u001b[0mmethod\u001b[0m\u001b[0;34m,\u001b[0m \u001b[0mtolerance\u001b[0m\u001b[0;34m=\u001b[0m\u001b[0mtolerance\u001b[0m\u001b[0;34m)\u001b[0m\u001b[0;34m\u001b[0m\u001b[0;34m\u001b[0m\u001b[0m\n\u001b[1;32m    390\u001b[0m \u001b[0;34m\u001b[0m\u001b[0m\n",
      "\u001b[0;31mKeyError\u001b[0m: 'landing_pad'"
     ]
    }
   ],
   "source": [
    "# Normalize the 'cores' column to extract landing pad information\n",
    "core_info = pd.json_normalize(data['cores'])\n",
    "\n",
    "# Extract the 'landing_pad' column\n",
    "landing_pad_column = core_info['landing_pad']\n",
    "\n",
    "# Check for missing values in the 'landing_pad' column\n",
    "missing_landingPad = landing_pad_column.isna().sum()\n",
    "print(missing_landingPad)"
   ]
  },
  {
   "cell_type": "code",
   "execution_count": null,
   "metadata": {},
   "outputs": [],
   "source": []
  },
  {
   "cell_type": "code",
   "execution_count": 20,
   "metadata": {
    "tags": []
   },
   "outputs": [
    {
     "name": "stdout",
     "output_type": "stream",
     "text": [
      "<title>List of Falcon 9 and Falcon Heavy launches - Wikipedia</title>\n"
     ]
    }
   ],
   "source": [
    "from bs4 import BeautifulSoup\n",
    "\n",
    "# Assuming 'soup' is already created from the Falcon 9 Wikipedia page\n",
    "print(soup.title)"
   ]
  },
  {
   "cell_type": "code",
   "execution_count": 26,
   "metadata": {
    "tags": []
   },
   "outputs": [
    {
     "name": "stdout",
     "output_type": "stream",
     "text": [
      "Index(['static_fire_date_utc', 'static_fire_date_unix', 'net', 'window',\n",
      "       'rocket', 'success', 'failures', 'details', 'crew', 'ships', 'capsules',\n",
      "       'payloads', 'launchpad', 'flight_number', 'name', 'date_utc',\n",
      "       'date_unix', 'date_local', 'date_precision', 'upcoming', 'cores',\n",
      "       'auto_update', 'tbd', 'launch_library_id', 'id', 'fairings.reused',\n",
      "       'fairings.recovery_attempt', 'fairings.recovered', 'fairings.ships',\n",
      "       'links.patch.small', 'links.patch.large', 'links.reddit.campaign',\n",
      "       'links.reddit.launch', 'links.reddit.media', 'links.reddit.recovery',\n",
      "       'links.flickr.small', 'links.flickr.original', 'links.presskit',\n",
      "       'links.webcast', 'links.youtube_id', 'links.article', 'links.wikipedia',\n",
      "       'fairings'],\n",
      "      dtype='object')\n",
      "0\n"
     ]
    }
   ],
   "source": [
    "# Assuming the column containing the rocket name is named 'rocket' or something similar\n",
    "\n",
    "# First, let's check if there's a column related to rocket names\n",
    "print(data.columns)\n",
    "\n",
    "# Filter out Falcon 1 launches\n",
    "falcon9_launches = data[data['rocket'] == 'Falcon 9']\n",
    "\n",
    "# Count the number of Falcon 9 launches\n",
    "falcon9_count = len(falcon9_launches)\n",
    "print(falcon9_count)"
   ]
  },
  {
   "cell_type": "code",
   "execution_count": 21,
   "metadata": {
    "tags": []
   },
   "outputs": [
    {
     "name": "stdout",
     "output_type": "stream",
     "text": [
      "['5e9d0d95eda69955f709d1eb' '5e9d0d95eda69973a809d1ec'\n",
      " '5e9d0d95eda69974db09d1ed']\n"
     ]
    }
   ],
   "source": [
    "# Check the unique values in the 'rocket' column\n",
    "print(data['rocket'].unique())"
   ]
  },
  {
   "cell_type": "code",
   "execution_count": 22,
   "metadata": {
    "tags": []
   },
   "outputs": [
    {
     "name": "stdout",
     "output_type": "stream",
     "text": [
      "0\n"
     ]
    }
   ],
   "source": [
    "# Replace 'CORRECT_VALUE' with the identified value\n",
    "falcon9_launches = data[data['rocket'] == 'CORRECT_VALUE']\n",
    "\n",
    "# Count the number of Falcon 9 launches\n",
    "falcon9_count = len(falcon9_launches)\n",
    "print(falcon9_count)"
   ]
  },
  {
   "cell_type": "code",
   "execution_count": 23,
   "metadata": {
    "tags": []
   },
   "outputs": [
    {
     "name": "stdout",
     "output_type": "stream",
     "text": [
      "Index(['static_fire_date_utc', 'static_fire_date_unix', 'net', 'window',\n",
      "       'rocket', 'success', 'failures', 'details', 'crew', 'ships', 'capsules',\n",
      "       'payloads', 'launchpad', 'flight_number', 'name', 'date_utc',\n",
      "       'date_unix', 'date_local', 'date_precision', 'upcoming', 'cores',\n",
      "       'auto_update', 'tbd', 'launch_library_id', 'id', 'fairings.reused',\n",
      "       'fairings.recovery_attempt', 'fairings.recovered', 'fairings.ships',\n",
      "       'links.patch.small', 'links.patch.large', 'links.reddit.campaign',\n",
      "       'links.reddit.launch', 'links.reddit.media', 'links.reddit.recovery',\n",
      "       'links.flickr.small', 'links.flickr.original', 'links.presskit',\n",
      "       'links.webcast', 'links.youtube_id', 'links.article', 'links.wikipedia',\n",
      "       'fairings'],\n",
      "      dtype='object')\n",
      "The 'landingPad' column does not exist in the DataFrame.\n"
     ]
    }
   ],
   "source": [
    "# Print all column names to verify the presence of 'landingPad'\n",
    "print(data.columns)\n",
    "\n",
    "# If 'landingPad' exists, calculate the number of missing values\n",
    "if 'landingPad' in data.columns:\n",
    "    missing_landingPad = data['landingPad'].isna().sum()\n",
    "    print(missing_landingPad)\n",
    "else:\n",
    "    print(\"The 'landingPad' column does not exist in the DataFrame.\")"
   ]
  },
  {
   "cell_type": "code",
   "execution_count": 24,
   "metadata": {
    "tags": []
   },
   "outputs": [
    {
     "name": "stdout",
     "output_type": "stream",
     "text": [
      "Missing values in 'launchpad': 0\n"
     ]
    }
   ],
   "source": [
    "# Count the number of missing values in the 'launchpad' column\n",
    "missing_launchpad = data['launchpad'].isna().sum()\n",
    "print(f\"Missing values in 'launchpad': {missing_launchpad}\")"
   ]
  },
  {
   "cell_type": "markdown",
   "metadata": {},
   "source": [
    "<a href=\"https://www.linkedin.com/in/yan-luo-96288783/\">Yan Luo</a>\n"
   ]
  },
  {
   "cell_type": "code",
   "execution_count": 25,
   "metadata": {
    "tags": []
   },
   "outputs": [
    {
     "name": "stdout",
     "output_type": "stream",
     "text": [
      "Missing values in 'launchpad': 0\n"
     ]
    }
   ],
   "source": [
    "# Count the number of missing values in the 'launchpad' column using .isnull()\n",
    "missing_launchpad = data['launchpad'].isnull().sum()\n",
    "print(f\"Missing values in 'launchpad': {missing_launchpad}\")"
   ]
  },
  {
   "cell_type": "markdown",
   "metadata": {},
   "source": [
    "<a href=\"https://www.linkedin.com/in/nayefaboutayoun/\">Nayef Abou Tayoun</a>\n"
   ]
  },
  {
   "cell_type": "code",
   "execution_count": 26,
   "metadata": {
    "tags": []
   },
   "outputs": [
    {
     "ename": "KeyError",
     "evalue": "'Booster Version'",
     "output_type": "error",
     "traceback": [
      "\u001b[0;31m---------------------------------------------------------------------------\u001b[0m",
      "\u001b[0;31mKeyError\u001b[0m                                  Traceback (most recent call last)",
      "\u001b[0;32m~/conda/envs/python/lib/python3.7/site-packages/pandas/core/indexes/base.py\u001b[0m in \u001b[0;36mget_loc\u001b[0;34m(self, key, method, tolerance)\u001b[0m\n\u001b[1;32m   3360\u001b[0m             \u001b[0;32mtry\u001b[0m\u001b[0;34m:\u001b[0m\u001b[0;34m\u001b[0m\u001b[0;34m\u001b[0m\u001b[0m\n\u001b[0;32m-> 3361\u001b[0;31m                 \u001b[0;32mreturn\u001b[0m \u001b[0mself\u001b[0m\u001b[0;34m.\u001b[0m\u001b[0m_engine\u001b[0m\u001b[0;34m.\u001b[0m\u001b[0mget_loc\u001b[0m\u001b[0;34m(\u001b[0m\u001b[0mcasted_key\u001b[0m\u001b[0;34m)\u001b[0m\u001b[0;34m\u001b[0m\u001b[0;34m\u001b[0m\u001b[0m\n\u001b[0m\u001b[1;32m   3362\u001b[0m             \u001b[0;32mexcept\u001b[0m \u001b[0mKeyError\u001b[0m \u001b[0;32mas\u001b[0m \u001b[0merr\u001b[0m\u001b[0;34m:\u001b[0m\u001b[0;34m\u001b[0m\u001b[0;34m\u001b[0m\u001b[0m\n",
      "\u001b[0;32m~/conda/envs/python/lib/python3.7/site-packages/pandas/_libs/index.pyx\u001b[0m in \u001b[0;36mpandas._libs.index.IndexEngine.get_loc\u001b[0;34m()\u001b[0m\n",
      "\u001b[0;32m~/conda/envs/python/lib/python3.7/site-packages/pandas/_libs/index.pyx\u001b[0m in \u001b[0;36mpandas._libs.index.IndexEngine.get_loc\u001b[0;34m()\u001b[0m\n",
      "\u001b[0;32mpandas/_libs/hashtable_class_helper.pxi\u001b[0m in \u001b[0;36mpandas._libs.hashtable.PyObjectHashTable.get_item\u001b[0;34m()\u001b[0m\n",
      "\u001b[0;32mpandas/_libs/hashtable_class_helper.pxi\u001b[0m in \u001b[0;36mpandas._libs.hashtable.PyObjectHashTable.get_item\u001b[0;34m()\u001b[0m\n",
      "\u001b[0;31mKeyError\u001b[0m: 'Booster Version'",
      "\nThe above exception was the direct cause of the following exception:\n",
      "\u001b[0;31mKeyError\u001b[0m                                  Traceback (most recent call last)",
      "\u001b[0;32m/tmp/ipykernel_664/1953523408.py\u001b[0m in \u001b[0;36m<module>\u001b[0;34m\u001b[0m\n\u001b[1;32m      1\u001b[0m \u001b[0;31m# Assuming the column name is 'Booster Version'\u001b[0m\u001b[0;34m\u001b[0m\u001b[0;34m\u001b[0m\u001b[0;34m\u001b[0m\u001b[0m\n\u001b[0;32m----> 2\u001b[0;31m \u001b[0mfalcon9_data\u001b[0m \u001b[0;34m=\u001b[0m \u001b[0mdata\u001b[0m\u001b[0;34m[\u001b[0m\u001b[0mdata\u001b[0m\u001b[0;34m[\u001b[0m\u001b[0;34m'Booster Version'\u001b[0m\u001b[0;34m]\u001b[0m \u001b[0;34m==\u001b[0m \u001b[0;34m'Falcon 9'\u001b[0m\u001b[0;34m]\u001b[0m\u001b[0;34m\u001b[0m\u001b[0;34m\u001b[0m\u001b[0m\n\u001b[0m\u001b[1;32m      3\u001b[0m \u001b[0;34m\u001b[0m\u001b[0m\n\u001b[1;32m      4\u001b[0m \u001b[0;31m# Count the number of Falcon 9 launches\u001b[0m\u001b[0;34m\u001b[0m\u001b[0;34m\u001b[0m\u001b[0;34m\u001b[0m\u001b[0m\n\u001b[1;32m      5\u001b[0m \u001b[0mfalcon9_launch_count\u001b[0m \u001b[0;34m=\u001b[0m \u001b[0mfalcon9_data\u001b[0m\u001b[0;34m.\u001b[0m\u001b[0mshape\u001b[0m\u001b[0;34m[\u001b[0m\u001b[0;36m0\u001b[0m\u001b[0;34m]\u001b[0m\u001b[0;34m\u001b[0m\u001b[0;34m\u001b[0m\u001b[0m\n",
      "\u001b[0;32m~/conda/envs/python/lib/python3.7/site-packages/pandas/core/frame.py\u001b[0m in \u001b[0;36m__getitem__\u001b[0;34m(self, key)\u001b[0m\n\u001b[1;32m   3456\u001b[0m             \u001b[0;32mif\u001b[0m \u001b[0mself\u001b[0m\u001b[0;34m.\u001b[0m\u001b[0mcolumns\u001b[0m\u001b[0;34m.\u001b[0m\u001b[0mnlevels\u001b[0m \u001b[0;34m>\u001b[0m \u001b[0;36m1\u001b[0m\u001b[0;34m:\u001b[0m\u001b[0;34m\u001b[0m\u001b[0;34m\u001b[0m\u001b[0m\n\u001b[1;32m   3457\u001b[0m                 \u001b[0;32mreturn\u001b[0m \u001b[0mself\u001b[0m\u001b[0;34m.\u001b[0m\u001b[0m_getitem_multilevel\u001b[0m\u001b[0;34m(\u001b[0m\u001b[0mkey\u001b[0m\u001b[0;34m)\u001b[0m\u001b[0;34m\u001b[0m\u001b[0;34m\u001b[0m\u001b[0m\n\u001b[0;32m-> 3458\u001b[0;31m             \u001b[0mindexer\u001b[0m \u001b[0;34m=\u001b[0m \u001b[0mself\u001b[0m\u001b[0;34m.\u001b[0m\u001b[0mcolumns\u001b[0m\u001b[0;34m.\u001b[0m\u001b[0mget_loc\u001b[0m\u001b[0;34m(\u001b[0m\u001b[0mkey\u001b[0m\u001b[0;34m)\u001b[0m\u001b[0;34m\u001b[0m\u001b[0;34m\u001b[0m\u001b[0m\n\u001b[0m\u001b[1;32m   3459\u001b[0m             \u001b[0;32mif\u001b[0m \u001b[0mis_integer\u001b[0m\u001b[0;34m(\u001b[0m\u001b[0mindexer\u001b[0m\u001b[0;34m)\u001b[0m\u001b[0;34m:\u001b[0m\u001b[0;34m\u001b[0m\u001b[0;34m\u001b[0m\u001b[0m\n\u001b[1;32m   3460\u001b[0m                 \u001b[0mindexer\u001b[0m \u001b[0;34m=\u001b[0m \u001b[0;34m[\u001b[0m\u001b[0mindexer\u001b[0m\u001b[0;34m]\u001b[0m\u001b[0;34m\u001b[0m\u001b[0;34m\u001b[0m\u001b[0m\n",
      "\u001b[0;32m~/conda/envs/python/lib/python3.7/site-packages/pandas/core/indexes/base.py\u001b[0m in \u001b[0;36mget_loc\u001b[0;34m(self, key, method, tolerance)\u001b[0m\n\u001b[1;32m   3361\u001b[0m                 \u001b[0;32mreturn\u001b[0m \u001b[0mself\u001b[0m\u001b[0;34m.\u001b[0m\u001b[0m_engine\u001b[0m\u001b[0;34m.\u001b[0m\u001b[0mget_loc\u001b[0m\u001b[0;34m(\u001b[0m\u001b[0mcasted_key\u001b[0m\u001b[0;34m)\u001b[0m\u001b[0;34m\u001b[0m\u001b[0;34m\u001b[0m\u001b[0m\n\u001b[1;32m   3362\u001b[0m             \u001b[0;32mexcept\u001b[0m \u001b[0mKeyError\u001b[0m \u001b[0;32mas\u001b[0m \u001b[0merr\u001b[0m\u001b[0;34m:\u001b[0m\u001b[0;34m\u001b[0m\u001b[0;34m\u001b[0m\u001b[0m\n\u001b[0;32m-> 3363\u001b[0;31m                 \u001b[0;32mraise\u001b[0m \u001b[0mKeyError\u001b[0m\u001b[0;34m(\u001b[0m\u001b[0mkey\u001b[0m\u001b[0;34m)\u001b[0m \u001b[0;32mfrom\u001b[0m \u001b[0merr\u001b[0m\u001b[0;34m\u001b[0m\u001b[0;34m\u001b[0m\u001b[0m\n\u001b[0m\u001b[1;32m   3364\u001b[0m \u001b[0;34m\u001b[0m\u001b[0m\n\u001b[1;32m   3365\u001b[0m         \u001b[0;32mif\u001b[0m \u001b[0mis_scalar\u001b[0m\u001b[0;34m(\u001b[0m\u001b[0mkey\u001b[0m\u001b[0;34m)\u001b[0m \u001b[0;32mand\u001b[0m \u001b[0misna\u001b[0m\u001b[0;34m(\u001b[0m\u001b[0mkey\u001b[0m\u001b[0;34m)\u001b[0m \u001b[0;32mand\u001b[0m \u001b[0;32mnot\u001b[0m \u001b[0mself\u001b[0m\u001b[0;34m.\u001b[0m\u001b[0mhasnans\u001b[0m\u001b[0;34m:\u001b[0m\u001b[0;34m\u001b[0m\u001b[0;34m\u001b[0m\u001b[0m\n",
      "\u001b[0;31mKeyError\u001b[0m: 'Booster Version'"
     ]
    }
   ],
   "source": [
    "# Assuming the column name is 'Booster Version'\n",
    "falcon9_data = data[data['Booster Version'] == 'Falcon 9']\n",
    "\n",
    "# Count the number of Falcon 9 launches\n",
    "falcon9_launch_count = falcon9_data.shape[0]\n",
    "print(falcon9_launch_count)"
   ]
  },
  {
   "cell_type": "markdown",
   "metadata": {},
   "source": [
    "<!--\n",
    "## Change Log\n",
    "-->\n"
   ]
  },
  {
   "cell_type": "code",
   "execution_count": 27,
   "metadata": {
    "tags": []
   },
   "outputs": [
    {
     "ename": "KeyError",
     "evalue": "'landingPad'",
     "output_type": "error",
     "traceback": [
      "\u001b[0;31m---------------------------------------------------------------------------\u001b[0m",
      "\u001b[0;31mKeyError\u001b[0m                                  Traceback (most recent call last)",
      "\u001b[0;32m~/conda/envs/python/lib/python3.7/site-packages/pandas/core/indexes/base.py\u001b[0m in \u001b[0;36mget_loc\u001b[0;34m(self, key, method, tolerance)\u001b[0m\n\u001b[1;32m   3360\u001b[0m             \u001b[0;32mtry\u001b[0m\u001b[0;34m:\u001b[0m\u001b[0;34m\u001b[0m\u001b[0;34m\u001b[0m\u001b[0m\n\u001b[0;32m-> 3361\u001b[0;31m                 \u001b[0;32mreturn\u001b[0m \u001b[0mself\u001b[0m\u001b[0;34m.\u001b[0m\u001b[0m_engine\u001b[0m\u001b[0;34m.\u001b[0m\u001b[0mget_loc\u001b[0m\u001b[0;34m(\u001b[0m\u001b[0mcasted_key\u001b[0m\u001b[0;34m)\u001b[0m\u001b[0;34m\u001b[0m\u001b[0;34m\u001b[0m\u001b[0m\n\u001b[0m\u001b[1;32m   3362\u001b[0m             \u001b[0;32mexcept\u001b[0m \u001b[0mKeyError\u001b[0m \u001b[0;32mas\u001b[0m \u001b[0merr\u001b[0m\u001b[0;34m:\u001b[0m\u001b[0;34m\u001b[0m\u001b[0;34m\u001b[0m\u001b[0m\n",
      "\u001b[0;32m~/conda/envs/python/lib/python3.7/site-packages/pandas/_libs/index.pyx\u001b[0m in \u001b[0;36mpandas._libs.index.IndexEngine.get_loc\u001b[0;34m()\u001b[0m\n",
      "\u001b[0;32m~/conda/envs/python/lib/python3.7/site-packages/pandas/_libs/index.pyx\u001b[0m in \u001b[0;36mpandas._libs.index.IndexEngine.get_loc\u001b[0;34m()\u001b[0m\n",
      "\u001b[0;32mpandas/_libs/hashtable_class_helper.pxi\u001b[0m in \u001b[0;36mpandas._libs.hashtable.PyObjectHashTable.get_item\u001b[0;34m()\u001b[0m\n",
      "\u001b[0;32mpandas/_libs/hashtable_class_helper.pxi\u001b[0m in \u001b[0;36mpandas._libs.hashtable.PyObjectHashTable.get_item\u001b[0;34m()\u001b[0m\n",
      "\u001b[0;31mKeyError\u001b[0m: 'landingPad'",
      "\nThe above exception was the direct cause of the following exception:\n",
      "\u001b[0;31mKeyError\u001b[0m                                  Traceback (most recent call last)",
      "\u001b[0;32m/tmp/ipykernel_664/476331068.py\u001b[0m in \u001b[0;36m<module>\u001b[0;34m\u001b[0m\n\u001b[1;32m      1\u001b[0m \u001b[0;31m# Replace 'landingPad' with the correct column name if necessary\u001b[0m\u001b[0;34m\u001b[0m\u001b[0;34m\u001b[0m\u001b[0;34m\u001b[0m\u001b[0m\n\u001b[0;32m----> 2\u001b[0;31m \u001b[0mmissing_landingPad_count\u001b[0m \u001b[0;34m=\u001b[0m \u001b[0mdata\u001b[0m\u001b[0;34m[\u001b[0m\u001b[0;34m'landingPad'\u001b[0m\u001b[0;34m]\u001b[0m\u001b[0;34m.\u001b[0m\u001b[0misna\u001b[0m\u001b[0;34m(\u001b[0m\u001b[0;34m)\u001b[0m\u001b[0;34m.\u001b[0m\u001b[0msum\u001b[0m\u001b[0;34m(\u001b[0m\u001b[0;34m)\u001b[0m\u001b[0;34m\u001b[0m\u001b[0;34m\u001b[0m\u001b[0m\n\u001b[0m\u001b[1;32m      3\u001b[0m \u001b[0mprint\u001b[0m\u001b[0;34m(\u001b[0m\u001b[0mmissing_landingPad_count\u001b[0m\u001b[0;34m)\u001b[0m\u001b[0;34m\u001b[0m\u001b[0;34m\u001b[0m\u001b[0m\n",
      "\u001b[0;32m~/conda/envs/python/lib/python3.7/site-packages/pandas/core/frame.py\u001b[0m in \u001b[0;36m__getitem__\u001b[0;34m(self, key)\u001b[0m\n\u001b[1;32m   3456\u001b[0m             \u001b[0;32mif\u001b[0m \u001b[0mself\u001b[0m\u001b[0;34m.\u001b[0m\u001b[0mcolumns\u001b[0m\u001b[0;34m.\u001b[0m\u001b[0mnlevels\u001b[0m \u001b[0;34m>\u001b[0m \u001b[0;36m1\u001b[0m\u001b[0;34m:\u001b[0m\u001b[0;34m\u001b[0m\u001b[0;34m\u001b[0m\u001b[0m\n\u001b[1;32m   3457\u001b[0m                 \u001b[0;32mreturn\u001b[0m \u001b[0mself\u001b[0m\u001b[0;34m.\u001b[0m\u001b[0m_getitem_multilevel\u001b[0m\u001b[0;34m(\u001b[0m\u001b[0mkey\u001b[0m\u001b[0;34m)\u001b[0m\u001b[0;34m\u001b[0m\u001b[0;34m\u001b[0m\u001b[0m\n\u001b[0;32m-> 3458\u001b[0;31m             \u001b[0mindexer\u001b[0m \u001b[0;34m=\u001b[0m \u001b[0mself\u001b[0m\u001b[0;34m.\u001b[0m\u001b[0mcolumns\u001b[0m\u001b[0;34m.\u001b[0m\u001b[0mget_loc\u001b[0m\u001b[0;34m(\u001b[0m\u001b[0mkey\u001b[0m\u001b[0;34m)\u001b[0m\u001b[0;34m\u001b[0m\u001b[0;34m\u001b[0m\u001b[0m\n\u001b[0m\u001b[1;32m   3459\u001b[0m             \u001b[0;32mif\u001b[0m \u001b[0mis_integer\u001b[0m\u001b[0;34m(\u001b[0m\u001b[0mindexer\u001b[0m\u001b[0;34m)\u001b[0m\u001b[0;34m:\u001b[0m\u001b[0;34m\u001b[0m\u001b[0;34m\u001b[0m\u001b[0m\n\u001b[1;32m   3460\u001b[0m                 \u001b[0mindexer\u001b[0m \u001b[0;34m=\u001b[0m \u001b[0;34m[\u001b[0m\u001b[0mindexer\u001b[0m\u001b[0;34m]\u001b[0m\u001b[0;34m\u001b[0m\u001b[0;34m\u001b[0m\u001b[0m\n",
      "\u001b[0;32m~/conda/envs/python/lib/python3.7/site-packages/pandas/core/indexes/base.py\u001b[0m in \u001b[0;36mget_loc\u001b[0;34m(self, key, method, tolerance)\u001b[0m\n\u001b[1;32m   3361\u001b[0m                 \u001b[0;32mreturn\u001b[0m \u001b[0mself\u001b[0m\u001b[0;34m.\u001b[0m\u001b[0m_engine\u001b[0m\u001b[0;34m.\u001b[0m\u001b[0mget_loc\u001b[0m\u001b[0;34m(\u001b[0m\u001b[0mcasted_key\u001b[0m\u001b[0;34m)\u001b[0m\u001b[0;34m\u001b[0m\u001b[0;34m\u001b[0m\u001b[0m\n\u001b[1;32m   3362\u001b[0m             \u001b[0;32mexcept\u001b[0m \u001b[0mKeyError\u001b[0m \u001b[0;32mas\u001b[0m \u001b[0merr\u001b[0m\u001b[0;34m:\u001b[0m\u001b[0;34m\u001b[0m\u001b[0;34m\u001b[0m\u001b[0m\n\u001b[0;32m-> 3363\u001b[0;31m                 \u001b[0;32mraise\u001b[0m \u001b[0mKeyError\u001b[0m\u001b[0;34m(\u001b[0m\u001b[0mkey\u001b[0m\u001b[0;34m)\u001b[0m \u001b[0;32mfrom\u001b[0m \u001b[0merr\u001b[0m\u001b[0;34m\u001b[0m\u001b[0;34m\u001b[0m\u001b[0m\n\u001b[0m\u001b[1;32m   3364\u001b[0m \u001b[0;34m\u001b[0m\u001b[0m\n\u001b[1;32m   3365\u001b[0m         \u001b[0;32mif\u001b[0m \u001b[0mis_scalar\u001b[0m\u001b[0;34m(\u001b[0m\u001b[0mkey\u001b[0m\u001b[0;34m)\u001b[0m \u001b[0;32mand\u001b[0m \u001b[0misna\u001b[0m\u001b[0;34m(\u001b[0m\u001b[0mkey\u001b[0m\u001b[0;34m)\u001b[0m \u001b[0;32mand\u001b[0m \u001b[0;32mnot\u001b[0m \u001b[0mself\u001b[0m\u001b[0;34m.\u001b[0m\u001b[0mhasnans\u001b[0m\u001b[0;34m:\u001b[0m\u001b[0;34m\u001b[0m\u001b[0;34m\u001b[0m\u001b[0m\n",
      "\u001b[0;31mKeyError\u001b[0m: 'landingPad'"
     ]
    }
   ],
   "source": [
    "# Replace 'landingPad' with the correct column name if necessary\n",
    "missing_landingPad_count = data['landingPad'].isna().sum()\n",
    "print(missing_landingPad_count)"
   ]
  },
  {
   "cell_type": "markdown",
   "metadata": {},
   "source": [
    "<!--\n",
    "| Date (YYYY-MM-DD) | Version | Changed By | Change Description      |\n",
    "| ----------------- | ------- | ---------- | ----------------------- |\n",
    "| 2021-06-09        | 1.0     | Yan Luo    | Tasks updates           |\n",
    "| 2020-11-10        | 1.0     | Nayef      | Created the initial version |\n",
    "-->\n"
   ]
  },
  {
   "cell_type": "markdown",
   "metadata": {},
   "source": [
    "Copyright © 2021 IBM Corporation. All rights reserved.\n"
   ]
  }
 ],
 "metadata": {
  "kernelspec": {
   "display_name": "Python",
   "language": "python",
   "name": "conda-env-python-py"
  },
  "language_info": {
   "codemirror_mode": {
    "name": "ipython",
    "version": 3
   },
   "file_extension": ".py",
   "mimetype": "text/x-python",
   "name": "python",
   "nbconvert_exporter": "python",
   "pygments_lexer": "ipython3",
   "version": "3.7.12"
  },
  "prev_pub_hash": "64f1b0aac408997185c47caba18730e0028b75e7934a0e5bf0ae73c5cb7ba677"
 },
 "nbformat": 4,
 "nbformat_minor": 4
}
